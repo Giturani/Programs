{
 "cells": [
  {
   "cell_type": "code",
   "execution_count": 1,
   "id": "e3310dba",
   "metadata": {},
   "outputs": [
    {
     "name": "stdout",
     "output_type": "stream",
     "text": [
      "30\n"
     ]
    }
   ],
   "source": [
    "a = 10\n",
    "b = 20\n",
    "c = a + b\n",
    "print(c)"
   ]
  },
  {
   "cell_type": "raw",
   "id": "18bd4e5d",
   "metadata": {},
   "source": [
    "Below is compile time error"
   ]
  },
  {
   "cell_type": "code",
   "execution_count": 2,
   "id": "1ed3f42f",
   "metadata": {},
   "outputs": [
    {
     "ename": "SyntaxError",
     "evalue": "unexpected EOF while parsing (2163284539.py, line 4)",
     "output_type": "error",
     "traceback": [
      "\u001b[1;36m  Input \u001b[1;32mIn [2]\u001b[1;36m\u001b[0m\n\u001b[1;33m    print(c\u001b[0m\n\u001b[1;37m           ^\u001b[0m\n\u001b[1;31mSyntaxError\u001b[0m\u001b[1;31m:\u001b[0m unexpected EOF while parsing\n"
     ]
    }
   ],
   "source": [
    "a = 10\n",
    "b = 20\n",
    "c = a + b\n",
    "print(c"
   ]
  },
  {
   "cell_type": "raw",
   "id": "57d14ab6",
   "metadata": {},
   "source": [
    "Below is runtimeerror or Exception"
   ]
  },
  {
   "cell_type": "code",
   "execution_count": 3,
   "id": "a3c1ab79",
   "metadata": {},
   "outputs": [
    {
     "ename": "TypeError",
     "evalue": "unsupported operand type(s) for +: 'int' and 'str'",
     "output_type": "error",
     "traceback": [
      "\u001b[1;31m---------------------------------------------------------------------------\u001b[0m",
      "\u001b[1;31mTypeError\u001b[0m                                 Traceback (most recent call last)",
      "Input \u001b[1;32mIn [3]\u001b[0m, in \u001b[0;36m<cell line: 3>\u001b[1;34m()\u001b[0m\n\u001b[0;32m      1\u001b[0m a \u001b[38;5;241m=\u001b[39m \u001b[38;5;241m10\u001b[39m\n\u001b[0;32m      2\u001b[0m b \u001b[38;5;241m=\u001b[39m \u001b[38;5;124m'\u001b[39m\u001b[38;5;124ms\u001b[39m\u001b[38;5;124m'\u001b[39m\n\u001b[1;32m----> 3\u001b[0m c \u001b[38;5;241m=\u001b[39m \u001b[43ma\u001b[49m\u001b[43m \u001b[49m\u001b[38;5;241;43m+\u001b[39;49m\u001b[43m \u001b[49m\u001b[43mb\u001b[49m\n\u001b[0;32m      4\u001b[0m \u001b[38;5;28mprint\u001b[39m(c)\n",
      "\u001b[1;31mTypeError\u001b[0m: unsupported operand type(s) for +: 'int' and 'str'"
     ]
    }
   ],
   "source": [
    "a = 10\n",
    "b = 's'\n",
    "c = a + b\n",
    "print(c)"
   ]
  },
  {
   "cell_type": "code",
   "execution_count": 5,
   "id": "b50efc30",
   "metadata": {},
   "outputs": [
    {
     "name": "stdout",
     "output_type": "stream",
     "text": [
      "enter first number10\n",
      "enter second number0\n"
     ]
    },
    {
     "ename": "ZeroDivisionError",
     "evalue": "division by zero",
     "output_type": "error",
     "traceback": [
      "\u001b[1;31m---------------------------------------------------------------------------\u001b[0m",
      "\u001b[1;31mZeroDivisionError\u001b[0m                         Traceback (most recent call last)",
      "Input \u001b[1;32mIn [5]\u001b[0m, in \u001b[0;36m<cell line: 3>\u001b[1;34m()\u001b[0m\n\u001b[0;32m      1\u001b[0m a \u001b[38;5;241m=\u001b[39m \u001b[38;5;28mint\u001b[39m(\u001b[38;5;28minput\u001b[39m(\u001b[38;5;124m\"\u001b[39m\u001b[38;5;124menter first number\u001b[39m\u001b[38;5;124m\"\u001b[39m))\n\u001b[0;32m      2\u001b[0m b \u001b[38;5;241m=\u001b[39m \u001b[38;5;28mint\u001b[39m(\u001b[38;5;28minput\u001b[39m(\u001b[38;5;124m\"\u001b[39m\u001b[38;5;124menter second number\u001b[39m\u001b[38;5;124m\"\u001b[39m))\n\u001b[1;32m----> 3\u001b[0m c \u001b[38;5;241m=\u001b[39m \u001b[43ma\u001b[49m\u001b[38;5;241;43m/\u001b[39;49m\u001b[43mb\u001b[49m\n\u001b[0;32m      4\u001b[0m \u001b[38;5;28mprint\u001b[39m(c)\n",
      "\u001b[1;31mZeroDivisionError\u001b[0m: division by zero"
     ]
    }
   ],
   "source": [
    "a = int(input(\"enter first number\"))\n",
    "b = int(input(\"enter second number\"))\n",
    "c = a/b\n",
    "print(c)"
   ]
  },
  {
   "cell_type": "code",
   "execution_count": 6,
   "id": "b169ba40",
   "metadata": {},
   "outputs": [
    {
     "ename": "SyntaxError",
     "evalue": "invalid syntax (2255863079.py, line 1)",
     "output_type": "error",
     "traceback": [
      "\u001b[1;36m  Input \u001b[1;32mIn [6]\u001b[1;36m\u001b[0m\n\u001b[1;33m    try\u001b[0m\n\u001b[1;37m       ^\u001b[0m\n\u001b[1;31mSyntaxError\u001b[0m\u001b[1;31m:\u001b[0m invalid syntax\n"
     ]
    }
   ],
   "source": [
    "try\n",
    "except\n",
    "else\n",
    "raise\n",
    "finally"
   ]
  },
  {
   "cell_type": "code",
   "execution_count": 7,
   "id": "175d654a",
   "metadata": {},
   "outputs": [
    {
     "name": "stdout",
     "output_type": "stream",
     "text": [
      "enter first number10\n",
      "enter second number0\n",
      "b should not be zero\n"
     ]
    }
   ],
   "source": [
    "a = int(input(\"enter first number\"))\n",
    "b = int(input(\"enter second number\"))\n",
    "try:\n",
    "    c = a/b\n",
    "    print(c)\n",
    "except:\n",
    "    print(\"b should not be zero\")"
   ]
  },
  {
   "cell_type": "raw",
   "id": "612261aa",
   "metadata": {},
   "source": [
    "Write a program to ask the user to input 2 integers and calculate and print their division. Make sure your program behaves as follows:\n",
    "\n",
    "If the user enters a non integer value then ask him to enter only integers\n",
    "If denominator is 0 , then ask him to input non-zero denominator\n",
    "Repeat the process until correct input is given\n",
    "\n",
    "Only if the inputs are correct then display their division and terminate the code"
   ]
  },
  {
   "cell_type": "code",
   "execution_count": 5,
   "id": "dcbd3079",
   "metadata": {},
   "outputs": [
    {
     "name": "stdout",
     "output_type": "stream",
     "text": [
      "enter first number34\n",
      "enter second number0\n",
      "Denominator should not be zero\n",
      "enter first number20\n",
      "enter second numbergita\n",
      "Enter a integer value\n",
      "enter first numbergita\n",
      "Enter a integer value\n",
      "enter first number34\n",
      "enter second number89\n",
      "0.38202247191011235\n"
     ]
    }
   ],
   "source": [
    "while(True):\n",
    "    try:\n",
    "        a = int(input(\"enter first number\"))\n",
    "        b = int(input(\"enter second number\"))\n",
    "        c = a/b\n",
    "        print(c)\n",
    "        break\n",
    "    except ZeroDivisionError:\n",
    "        print(\"Denominator should not be zero\")\n",
    "    except ValueError:\n",
    "        print(\"Enter a integer value\")"
   ]
  },
  {
   "cell_type": "code",
   "execution_count": null,
   "id": "b26cb154",
   "metadata": {},
   "outputs": [],
   "source": [
    "while(True):\n",
    "    try:\n",
    "        a = int(input(\"enter first number\"))\n",
    "        b = int(input(\"enter second number\"))\n",
    "        c = a/b\n",
    "        print(c)\n",
    "        break\n",
    "    except ZeroDivisionError or ValueError:\n",
    "        print(\"Denominator should not be zero\")"
   ]
  },
  {
   "cell_type": "code",
   "execution_count": 6,
   "id": "30c9290b",
   "metadata": {},
   "outputs": [
    {
     "name": "stdout",
     "output_type": "stream",
     "text": [
      "enter first number10\n",
      "enter second number0\n",
      "division by zero\n"
     ]
    }
   ],
   "source": [
    "try:\n",
    "    a = int(input(\"enter first number\"))\n",
    "    b = int(input(\"enter second number\"))\n",
    "    c = a/b\n",
    "    print(c)\n",
    "\n",
    "except ZeroDivisionError as e:\n",
    "    print(e)"
   ]
  },
  {
   "cell_type": "code",
   "execution_count": null,
   "id": "9332dcc0",
   "metadata": {},
   "outputs": [
    {
     "name": "stdout",
     "output_type": "stream",
     "text": [
      "enter first number10\n",
      "enter second number0\n",
      "Exception Class : <class 'ZeroDivisionError'>\n",
      "Exception message: division by zero\n",
      "Line Number: <traceback object at 0x0000020B93C85D00>\n"
     ]
    }
   ],
   "source": [
    "import sys\n",
    "while(True):\n",
    "    try:\n",
    "        a = int(input(\"enter first number\"))\n",
    "        b = int(input(\"enter second number\"))\n",
    "        c = a/b\n",
    "        print(c)\n",
    "        break\n",
    "    except:\n",
    "        a,b,c = sys.exc_info()\n",
    "        print(\"Exception Class :\", a)\n",
    "        print(\"Exception message:\",b)\n",
    "        print(\"Line Number:\",c.)"
   ]
  },
  {
   "cell_type": "code",
   "execution_count": null,
   "id": "1a741923",
   "metadata": {},
   "outputs": [
    {
     "name": "stdout",
     "output_type": "stream",
     "text": [
      "enter first number10\n",
      "enter second number0\n",
      "Traceback (most recent call last):\n",
      "  File \"C:\\Users\\91942\\AppData\\Local\\Temp\\ipykernel_32960\\3179916766.py\", line 6, in <cell line: 3>\n",
      "    c = a/b\n",
      "ZeroDivisionError: division by zero\n",
      "\n"
     ]
    }
   ],
   "source": [
    "import traceback\n",
    "while(True):\n",
    "    try:\n",
    "        a = int(input(\"enter first number\"))\n",
    "        b = int(input(\"enter second number\"))\n",
    "        c = a/b\n",
    "        print(c)\n",
    "        break\n",
    "    except:\n",
    "        print(traceback.format_exc())"
   ]
  },
  {
   "cell_type": "raw",
   "id": "467d39df",
   "metadata": {},
   "source": [
    "Raise Exception"
   ]
  },
  {
   "cell_type": "code",
   "execution_count": 6,
   "id": "a992d70f",
   "metadata": {},
   "outputs": [
    {
     "name": "stdout",
     "output_type": "stream",
     "text": [
      "First Number:-1\n",
      "Second Number:-5\n"
     ]
    },
    {
     "ename": "Exception",
     "evalue": "neg number not allow",
     "output_type": "error",
     "traceback": [
      "\u001b[1;31m---------------------------------------------------------------------------\u001b[0m",
      "\u001b[1;31mException\u001b[0m                                 Traceback (most recent call last)",
      "Input \u001b[1;32mIn [6]\u001b[0m, in \u001b[0;36m<cell line: 3>\u001b[1;34m()\u001b[0m\n\u001b[0;32m      1\u001b[0m a \u001b[38;5;241m=\u001b[39m \u001b[38;5;28mint\u001b[39m(\u001b[38;5;28minput\u001b[39m(\u001b[38;5;124m\"\u001b[39m\u001b[38;5;124mFirst Number:\u001b[39m\u001b[38;5;124m\"\u001b[39m))\n\u001b[0;32m      2\u001b[0m b \u001b[38;5;241m=\u001b[39m \u001b[38;5;28mint\u001b[39m(\u001b[38;5;28minput\u001b[39m(\u001b[38;5;124m\"\u001b[39m\u001b[38;5;124mSecond Number:\u001b[39m\u001b[38;5;124m\"\u001b[39m))\n\u001b[1;32m----> 3\u001b[0m \u001b[38;5;28;01mif\u001b[39;00m a\u001b[38;5;241m<\u001b[39m\u001b[38;5;241m0\u001b[39m \u001b[38;5;129;01mor\u001b[39;00m b\u001b[38;5;241m<\u001b[39m\u001b[38;5;241m0\u001b[39m:\u001b[38;5;28;01mraise\u001b[39;00m \u001b[38;5;167;01mException\u001b[39;00m(\u001b[38;5;124m\"\u001b[39m\u001b[38;5;124mneg number not allow\u001b[39m\u001b[38;5;124m\"\u001b[39m)\n",
      "\u001b[1;31mException\u001b[0m: neg number not allow"
     ]
    }
   ],
   "source": [
    "a = int(input(\"First Number:\"))\n",
    "b = int(input(\"Second Number:\"))\n",
    "if a<0 or b<0:raise Exception(\"neg number not allow\")"
   ]
  },
  {
   "cell_type": "code",
   "execution_count": null,
   "id": "b224f05e",
   "metadata": {},
   "outputs": [
    {
     "name": "stdout",
     "output_type": "stream",
     "text": [
      "first number:10\n",
      "second number:a\n",
      "please enter int only\n",
      "first number:100\n",
      "second number:gita\n",
      "please enter int only\n",
      "first number:a\n",
      "please enter int only\n",
      "first number:5\n",
      "second number:20.0\n",
      "please enter int only\n"
     ]
    }
   ],
   "source": [
    "while True:\n",
    "    try:\n",
    "        a=int(input(\"first number:\"))\n",
    "        b=int(input(\"second number:\"))\n",
    "        if a<0 or b<0: \n",
    "            raise Exception(\"neg number note allowd\")\n",
    "        c=a/b\n",
    "        print(\"div is\", c)\n",
    "        break\n",
    "    except ValueError:\n",
    "        print(\"please enter int only\")\n",
    "    except ZeroDivisionError:\n",
    "        print(\"please enter non zero denomitor\")\n",
    "    except Exception as e:\n",
    "        print(e)"
   ]
  },
  {
   "cell_type": "code",
   "execution_count": null,
   "id": "b1d97b44",
   "metadata": {},
   "outputs": [],
   "source": [
    "Write a program to ask-->  the user to input 2 integers and calculate and print their division. Make sure your program behaves as follows:\n",
    "\n",
    "If the user enters a non integer value then ask him to enter only integers\n",
    "If denominator is 0 ,  ask him to input non-zero denominator\n",
    "Repeat the process until correct input is given\n",
    "\n",
    "Only if the inputs are correct then display their division and terminate the code\n",
    "\n",
    "Answer please for the abthenove quaries\n",
    "while True:\n",
    "    try:\n",
    "        num1=int(input(\"Enter number1 \"))\n",
    "        num2=int(input(\"Enter number2 \"))\n",
    "        num3=num1/num2\n",
    "        print(f\"The division of {num1} and {num2} is {num3}\")\n",
    "        break\n",
    "        \n",
    "    except ValueError:\n",
    "        print(\"Enter only integer values\")\n",
    "        continue\n",
    "18\n",
    "        break\n",
    "19\n",
    "        \n",
    "20\n",
    "    except ValueError:\n",
    "21\n",
    "        print(\"Enter only integer values\")\n",
    "22\n",
    "        continue\n",
    "23\n",
    "    except ZeroDivisionError:\n",
    "24\n",
    "        print(\"Enter num2 value non zero\")\n",
    "25\n",
    "        continue  \n",
    "26\n",
    "        \n",
    "27\n",
    "        \n",
    "28\n",
    "import sys\n",
    "29\n",
    "while True:\n",
    "30\n",
    "    try:\n",
    "31\n",
    "        a=int(input(\"first number:\"))\n",
    "32\n",
    "        b=int(input(\"second number:\"))\n",
    "33\n",
    "        c=a/b\n",
    "34\n",
    "        print(\"div:\", c)\n",
    "35\n",
    "        break\n",
    "36\n",
    "    except:\n",
    "37\n",
    "        print(sys.exc_info()) \n",
    "38\n",
    "\n",
    "\n",
    "\n",
    "    except ZeroDivisionError:\n",
    "        print(\"Enter num2 value non zero\")\n",
    "        continue  \n",
    "        \n",
    "        \n",
    "import sys\n",
    "while True:\n",
    "    try:\n",
    "        a=int(input(\"first number:\"))\n",
    "        b=int(input(\"second number:\"))\n",
    "        c=a/b\n",
    "        print(\"div:\", c)\n",
    "        break\n",
    "    except:\n",
    "        print(sys.exc_info()) \n",
    "\n",
    "\n",
    "import sys\n",
    "while True:\n",
    "    try:\n",
    "        a=int(input(\"first number:\"))\n",
    "        b=int(input(\"second number:\"))\n",
    "        c=a/b\n",
    "        print(\"div:\", c)\n",
    "        break\n",
    "    except:\n",
    "        a,b,c=sys.exc_info()\n",
    "        print(\"exception class\", a)\n",
    "        print(\"exception message\", b)\n",
    "        print(\"line number\", import sys\n",
    "while True:\n",
    "    \n",
    "    try:\n",
    "        a=int(input(\"Enter a number\"))\n",
    "        b=int(input(\"Second number\"))\n",
    "        c=a/b\n",
    "        print(\"div:\",c)\n",
    "        break\n",
    "    except:\n",
    "        print(sys.exc_info())import sys\n",
    "while True:\n",
    "    \n",
    "    try:\n",
    "        a=int(input(\"Enter a number\"))\n",
    "        b=int(input(\"Second number\"))\n",
    "        c=a/b\n",
    "        print(\"div:\",c)\n",
    "        break\n",
    "    except:\n",
    "        print(sys.exc_info()))\n",
    "        \n",
    "\n",
    "        \n",
    "while True:\n",
    "    try:\n",
    "        a=int(input(\"first number:\"))\n",
    "        b=int(input(\"second number:\"))\n",
    "        if a<0 or b<0: \n",
    "            raise Exception(\"neg number note allowd\")\n",
    "        c=a/b\n",
    "        print(\"div is\", c)\n",
    "        break\n",
    "    except ValueError:\n",
    "        print(\"please enter int only\")\n",
    "    except ZeroDivisionError:\n",
    "        print(\"please enter non zero denomitor\")\n",
    "    except Exception as e:\n",
    "        print(e)\n",
    "\n",
    "-------------------------------------------------------        \n",
    "class NegativeNumberException(Exception):\n",
    "  pass\n",
    "while True:\n",
    "    try:\n",
    "        a=int(input(\"first number:\"))\n",
    "        b=int(input(\"second number:\"))\n",
    "        if a<0 or b<0: \n",
    "            raise NegativeNumberException(\"neg number note allowd\")\n",
    "        c=a/b\n",
    "        print(\"div is\", c)\n",
    "        break\n",
    "    except ValueError:\n",
    "        print(\"please enter int only\")\n",
    "    except ZeroDivisionError:\n",
    "        print(\"please enter non zero denomitor\")\n",
    "    except NegativeNumberException as e:\n",
    "        print(e)"
   ]
  }
 ],
 "metadata": {
  "kernelspec": {
   "display_name": "Python 3 (ipykernel)",
   "language": "python",
   "name": "python3"
  },
  "language_info": {
   "codemirror_mode": {
    "name": "ipython",
    "version": 3
   },
   "file_extension": ".py",
   "mimetype": "text/x-python",
   "name": "python",
   "nbconvert_exporter": "python",
   "pygments_lexer": "ipython3",
   "version": "3.9.12"
  }
 },
 "nbformat": 4,
 "nbformat_minor": 5
}
