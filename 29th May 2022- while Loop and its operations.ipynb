{
 "cells": [
  {
   "cell_type": "code",
   "execution_count": null,
   "id": "5a1ef8c6",
   "metadata": {},
   "outputs": [],
   "source": [
    "Your First Challenge : \n",
    "    \n",
    "you have to submit it by next saturday 4th june 2022  : \n",
    "    shivan@ineuron.ai ,sudhanshu@ineuron.ai\n",
    "\n",
    "\n",
    "\n",
    "q3 : Try to print all the number divisible by 3 in between a range of 40 - 400\n",
    "    \n",
    "q4 : Try to filter out all the vowels form below text by using while loop : \n",
    " \"\"\"Python is a high-level, interpreted, general-purpose programming language. Its design philosophy emphasizes code readability with the use of significant indentation.[32]\n",
    "\n",
    "Python is dynamically-typed and garbage-collected. It supports multiple programming paradigms, including structured (particularly procedural), object-oriented and functional programming. It is often described as a \"batteries included\" language due to its comprehensive standard library.[33][34]\n",
    "\n",
    "Guido van Rossum began working on Python in the late 1980s as a successor to the ABC programming language and first released it in 1991 as Python 0.9.0.[35] Python 2.0 was released in 2000 and introduced new features such as list comprehensions, cycle-detecting garbage collection, reference counting, and Unicode support. Python 3.0, released in 2008, was a major revision that is not completely backward-compatible with earlier versions. Python 2 was discontinued with version 2.7.18 in 2020.[36]\n",
    "\n",
    "Python consistently ranks as one of the most popular programming languagesc\"\"\" \n",
    "\n",
    "\n",
    "q5 : Try to generate all the even number between 1- 1000\n",
    "\n",
    "q6 : Define a function for all the above problem statememnt  . \n",
    "    \n",
    "q7 : write a code to get a time of your system \n",
    "\n",
    "q8 : Write a code to fetch date form your system \n",
    "\n",
    "q9 : Write a code to send a mail to your friend \n",
    "\n",
    "q10 : write a code to trigger alarm for you at scheduled time \n",
    "\n",
    "q11 : write a code to check ip address of your system \n",
    "\n",
    "q12 : Write a code to check a perticular installation in your system\n",
    "\n",
    "q13 : Write a code to convert any text in to voice \n",
    "\n",
    "q14 : you have to write a fun which will take string and return a len of \n",
    "it without using a inbuilt fun len\n",
    "\n",
    "q15 :write a fun which will be able to print an index of all premitive element which you will pass \n",
    "\n",
    "q16 : Write a fun which will take input as a dict and give me out as a list of all the values \n",
    "even in case of 2 level nesting it should work . \n",
    "\n",
    "q17 : write a function whihc will take multiple list as a input and give me concatnation of all the element as \n",
    "and output\n",
    "\n",
    "q18 : Write a function which will whould return list of all the file name from a directory . \n",
    "\n",
    "q19 : write a function whihc will be able to read a image file and show it to you .\n",
    "    \n",
    "q20 : write a function by which you will be able to append two PDF files . \n",
    "    \n",
    "q21 : write a function which can help you to filter only word file from a directory . \n",
    "    \n",
    "q22 : write a function which can read video file and play for you . \n",
    "    \n",
    "q23 : write a function which will be able to shutdonw your system . \n",
    "\n",
    "q24 : Write a function which will whould return list of all the file name from a directory . \n",
    "\n",
    "q25 : write a function whihc will be able to access your mail ."
   ]
  },
  {
   "cell_type": "raw",
   "id": "a309ecaa",
   "metadata": {},
   "source": [
    "q1 : Try to print this by using while loop \n",
    "* \n",
    "* * \n",
    "* * * \n",
    "* * * * \n",
    "* * * * * \n",
    "* * * * * * \n",
    "* * * * * * * \n",
    "* * * * * * * * \n",
    "* * * * * * * * * "
   ]
  },
  {
   "cell_type": "code",
   "execution_count": 9,
   "id": "c7e69eca",
   "metadata": {},
   "outputs": [
    {
     "name": "stdout",
     "output_type": "stream",
     "text": [
      "* \n",
      "* * \n",
      "* * * \n",
      "* * * * \n",
      "* * * * * \n",
      "* * * * * * \n",
      "* * * * * * * \n",
      "* * * * * * * * \n",
      "* * * * * * * * * \n"
     ]
    }
   ],
   "source": [
    "n = 9\n",
    "i=1\n",
    "while(i<=n):\n",
    "    j=1\n",
    "    while(j<=i):\n",
    "        print(\"*\",end=\" \")\n",
    "        j=j+1\n",
    "    i=i+1\n",
    "    print()"
   ]
  },
  {
   "cell_type": "raw",
   "id": "5b7584f3",
   "metadata": {},
   "source": [
    "q2 : try to print below by using while loop : \n",
    "        \n",
    "A\n",
    "B H \n",
    "C I N\n",
    "D J o S\n",
    "E K p T W\n",
    "F L Q U X z\n",
    "G M R V Y "
   ]
  },
  {
   "cell_type": "code",
   "execution_count": 11,
   "id": "8e6aa3b4",
   "metadata": {},
   "outputs": [
    {
     "name": "stdout",
     "output_type": "stream",
     "text": [
      "0 0\n",
      "\n",
      "1 0\n",
      "1 1\n",
      "\n",
      "2 0\n",
      "2 1\n",
      "2 2\n",
      "\n",
      "3 0\n",
      "3 1\n",
      "3 2\n",
      "3 3\n",
      "\n",
      "4 0\n",
      "4 1\n",
      "4 2\n",
      "4 3\n",
      "4 4\n",
      "\n",
      "5 0\n",
      "5 1\n",
      "5 2\n",
      "5 3\n",
      "5 4\n",
      "5 5\n",
      "\n",
      "6 0\n",
      "6 1\n",
      "6 2\n",
      "6 3\n",
      "6 4\n",
      "6 5\n",
      "6 6\n",
      "\n",
      "7 0\n",
      "7 1\n",
      "7 2\n",
      "7 3\n",
      "7 4\n",
      "7 5\n",
      "7 6\n",
      "7 7\n",
      "\n"
     ]
    }
   ],
   "source": [
    "n = 7\n",
    "i = 0\n",
    "while(i <= n):\n",
    "    j = 0\n",
    "    while(j <= i):\n",
    "        #print(chr(a))\n",
    "        print(i,j)\n",
    "        j = j + 1\n",
    "        \n",
    "    i = i + 1\n",
    "    print()"
   ]
  },
  {
   "cell_type": "code",
   "execution_count": 87,
   "id": "bb52103a",
   "metadata": {},
   "outputs": [
    {
     "name": "stdout",
     "output_type": "stream",
     "text": [
      "A \r\n",
      "B H \r\n",
      "C I N \r\n",
      "D J O S \r\n",
      "E K P T W \r\n",
      "F L Q U X Z \r\n",
      "G M R V Y \r\n"
     ]
    }
   ],
   "source": [
    "n = 7\n",
    "i = 1\n",
    "sum = 64\n",
    "\n",
    "# Outer loop for how many lines we want to print\n",
    "while(i<=n): \n",
    "    k = sum + i\n",
    "    j = 1\n",
    "\n",
    "    # Inner loop for printing natural number\n",
    "    while(j <= i):\n",
    "        if ord('Z') >= k:\n",
    "            print (chr(k),end=\" \")\n",
    "\n",
    "            # Logic to print natural value column-wise\n",
    "            k = k + n - j\n",
    "            j = j + 1\n",
    "        else:\n",
    "            break\n",
    "    print(\"\\r\")\n",
    "    i = i + 1"
   ]
  },
  {
   "cell_type": "code",
   "execution_count": 37,
   "id": "153bc9ae",
   "metadata": {},
   "outputs": [
    {
     "name": "stdout",
     "output_type": "stream",
     "text": [
      "0\n",
      "1\n",
      "2\n",
      "3\n",
      "4\n",
      "5\n",
      "6\n",
      "7\n",
      "\n",
      "2\n",
      "3\n",
      "4\n",
      "5\n",
      "6\n",
      "7\n",
      "8\n",
      "\n",
      "4\n",
      "5\n",
      "6\n",
      "7\n",
      "8\n",
      "9\n",
      "\n",
      "6\n",
      "7\n",
      "8\n",
      "9\n",
      "10\n",
      "\n",
      "8\n",
      "9\n",
      "10\n",
      "11\n",
      "\n",
      "10\n",
      "11\n",
      "12\n",
      "\n",
      "12\n",
      "13\n",
      "\n",
      "14\n",
      "\n"
     ]
    }
   ],
   "source": [
    "m = 7 \n",
    "i = 0\n",
    "while(i <= m):\n",
    "    j = i \n",
    "    while(j <= m):\n",
    "        #print(chr(a))\n",
    "        #print(i,j)\n",
    "        print((i+j))\n",
    "        j = j + 1\n",
    "    i = i + 1\n",
    "    print()"
   ]
  },
  {
   "cell_type": "code",
   "execution_count": 57,
   "id": "9c91529e",
   "metadata": {},
   "outputs": [
    {
     "data": {
      "text/plain": [
       "[['A', 'B', 'C', 'D', 'E', 'F', 'G'],\n",
       " ['H', 'I', 'J', 'K', 'L', 'M'],\n",
       " ['N', 'O', 'P', 'Q', 'R'],\n",
       " ['S', 'T', 'U', 'V'],\n",
       " ['W', 'X', 'Y'],\n",
       " ['Z']]"
      ]
     },
     "execution_count": 57,
     "metadata": {},
     "output_type": "execute_result"
    }
   ],
   "source": [
    "a = 65\n",
    "m = 6\n",
    "i = 0\n",
    "list2 = []\n",
    "flag = True\n",
    "while(i <= m):\n",
    "    j = i\n",
    "    list1 = []\n",
    "    while(j <= m):\n",
    "        if ord('Z') >= a:\n",
    "            list1.append(chr(a))\n",
    "            a = a + 1\n",
    "            j = j + 1\n",
    "        else:\n",
    "            break;\n",
    "    if len(list1) != 0:\n",
    "        list2.append(list1)\n",
    "        i = i + 1\n",
    "    else:\n",
    "        break\n",
    "list2"
   ]
  },
  {
   "cell_type": "code",
   "execution_count": 72,
   "id": "14666acd",
   "metadata": {},
   "outputs": [
    {
     "data": {
      "text/plain": [
       "['Gita']"
      ]
     },
     "execution_count": 72,
     "metadata": {},
     "output_type": "execute_result"
    }
   ],
   "source": [
    "list6 = []\n",
    "list6.insert([0][0],'Gita')\n",
    "list6"
   ]
  },
  {
   "cell_type": "code",
   "execution_count": 83,
   "id": "14c14b06",
   "metadata": {},
   "outputs": [
    {
     "name": "stdout",
     "output_type": "stream",
     "text": [
      "0 0\n",
      "0 1\n",
      "0 2\n",
      "0 3\n",
      "0 4\n",
      "0 5\n",
      "0 6\n"
     ]
    },
    {
     "ename": "IndexError",
     "evalue": "list assignment index out of range",
     "output_type": "error",
     "traceback": [
      "\u001b[1;31m---------------------------------------------------------------------------\u001b[0m",
      "\u001b[1;31mIndexError\u001b[0m                                Traceback (most recent call last)",
      "Input \u001b[1;32mIn [83]\u001b[0m, in \u001b[0;36m<cell line: 5>\u001b[1;34m()\u001b[0m\n\u001b[0;32m      8\u001b[0m \u001b[38;5;28;01mif\u001b[39;00m \u001b[38;5;28mord\u001b[39m(\u001b[38;5;124m'\u001b[39m\u001b[38;5;124mZ\u001b[39m\u001b[38;5;124m'\u001b[39m) \u001b[38;5;241m>\u001b[39m\u001b[38;5;241m=\u001b[39m a:\n\u001b[0;32m      9\u001b[0m     \u001b[38;5;28mprint\u001b[39m(i,j)\n\u001b[1;32m---> 10\u001b[0m     list2[i][j] \u001b[38;5;241m=\u001b[39m \u001b[38;5;28mchr\u001b[39m(a)\n\u001b[0;32m     11\u001b[0m     a \u001b[38;5;241m=\u001b[39m a \u001b[38;5;241m+\u001b[39m \u001b[38;5;241m1\u001b[39m\n\u001b[0;32m     12\u001b[0m     j \u001b[38;5;241m=\u001b[39m j \u001b[38;5;241m+\u001b[39m \u001b[38;5;241m1\u001b[39m\n",
      "\u001b[1;31mIndexError\u001b[0m: list assignment index out of range"
     ]
    }
   ],
   "source": [
    "a = 65\n",
    "m = 6\n",
    "i = 0\n",
    "list2 = [[0]*m]*m\n",
    "while(i <= m):\n",
    "    j = i\n",
    "    while(j <= m):\n",
    "        if ord('Z') >= a:\n",
    "            print(i,j)\n",
    "            list2[i][j] = chr(a)\n",
    "            a = a + 1\n",
    "            j = j + 1\n",
    "        else:\n",
    "            break;\n",
    "    i = i + 1\n",
    "list2"
   ]
  },
  {
   "cell_type": "code",
   "execution_count": null,
   "id": "92f2f0d0",
   "metadata": {},
   "outputs": [],
   "source": []
  }
 ],
 "metadata": {
  "kernelspec": {
   "display_name": "Python 3 (ipykernel)",
   "language": "python",
   "name": "python3"
  },
  "language_info": {
   "codemirror_mode": {
    "name": "ipython",
    "version": 3
   },
   "file_extension": ".py",
   "mimetype": "text/x-python",
   "name": "python",
   "nbconvert_exporter": "python",
   "pygments_lexer": "ipython3",
   "version": "3.9.12"
  }
 },
 "nbformat": 4,
 "nbformat_minor": 5
}
