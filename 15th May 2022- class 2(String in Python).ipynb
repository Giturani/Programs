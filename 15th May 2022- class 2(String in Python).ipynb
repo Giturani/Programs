{
 "cells": [
  {
   "cell_type": "code",
   "execution_count": 1,
   "id": "89266aa6",
   "metadata": {},
   "outputs": [],
   "source": [
    "name =  'Gitanjali'"
   ]
  },
  {
   "cell_type": "code",
   "execution_count": 2,
   "id": "30b5d79a",
   "metadata": {},
   "outputs": [
    {
     "data": {
      "text/plain": [
       "'G'"
      ]
     },
     "execution_count": 2,
     "metadata": {},
     "output_type": "execute_result"
    }
   ],
   "source": [
    "name[0]"
   ]
  },
  {
   "cell_type": "code",
   "execution_count": 3,
   "id": "76548e1d",
   "metadata": {},
   "outputs": [
    {
     "data": {
      "text/plain": [
       "'i'"
      ]
     },
     "execution_count": 3,
     "metadata": {},
     "output_type": "execute_result"
    }
   ],
   "source": [
    "name[-1]"
   ]
  },
  {
   "cell_type": "code",
   "execution_count": 4,
   "id": "0d102a5f",
   "metadata": {},
   "outputs": [
    {
     "data": {
      "text/plain": [
       "'j'"
      ]
     },
     "execution_count": 4,
     "metadata": {},
     "output_type": "execute_result"
    }
   ],
   "source": [
    "name[5]"
   ]
  },
  {
   "cell_type": "code",
   "execution_count": 5,
   "id": "48a91e03",
   "metadata": {},
   "outputs": [
    {
     "data": {
      "text/plain": [
       "str"
      ]
     },
     "execution_count": 5,
     "metadata": {},
     "output_type": "execute_result"
    }
   ],
   "source": [
    "type(name)"
   ]
  },
  {
   "cell_type": "code",
   "execution_count": 6,
   "id": "e88757e8",
   "metadata": {},
   "outputs": [
    {
     "data": {
      "text/plain": [
       "'l'"
      ]
     },
     "execution_count": 6,
     "metadata": {},
     "output_type": "execute_result"
    }
   ],
   "source": [
    "name[-2]"
   ]
  },
  {
   "cell_type": "code",
   "execution_count": 7,
   "id": "c35833ae",
   "metadata": {},
   "outputs": [
    {
     "ename": "IndexError",
     "evalue": "string index out of range",
     "output_type": "error",
     "traceback": [
      "\u001b[1;31m---------------------------------------------------------------------------\u001b[0m",
      "\u001b[1;31mIndexError\u001b[0m                                Traceback (most recent call last)",
      "Input \u001b[1;32mIn [7]\u001b[0m, in \u001b[0;36m<cell line: 1>\u001b[1;34m()\u001b[0m\n\u001b[1;32m----> 1\u001b[0m \u001b[43mname\u001b[49m\u001b[43m[\u001b[49m\u001b[38;5;241;43m-\u001b[39;49m\u001b[38;5;241;43m10\u001b[39;49m\u001b[43m]\u001b[49m\n",
      "\u001b[1;31mIndexError\u001b[0m: string index out of range"
     ]
    }
   ],
   "source": [
    "name[-10]"
   ]
  },
  {
   "cell_type": "code",
   "execution_count": 9,
   "id": "2ff6140d",
   "metadata": {},
   "outputs": [
    {
     "ename": "SyntaxError",
     "evalue": "invalid syntax (1711721049.py, line 1)",
     "output_type": "error",
     "traceback": [
      "\u001b[1;36m  Input \u001b[1;32mIn [9]\u001b[1;36m\u001b[0m\n\u001b[1;33m    'my name is Gitanjali'j'\u001b[0m\n\u001b[1;37m                          ^\u001b[0m\n\u001b[1;31mSyntaxError\u001b[0m\u001b[1;31m:\u001b[0m invalid syntax\n"
     ]
    }
   ],
   "source": [
    "'my name is Gitanjali'j'"
   ]
  },
  {
   "cell_type": "code",
   "execution_count": 11,
   "id": "c0546c90",
   "metadata": {},
   "outputs": [
    {
     "data": {
      "text/plain": [
       "\"my name is Gitanjali'j\""
      ]
     },
     "execution_count": 11,
     "metadata": {},
     "output_type": "execute_result"
    }
   ],
   "source": [
    "s1 = \"my name is Gitanjali'j\"\n",
    "s1"
   ]
  },
  {
   "cell_type": "code",
   "execution_count": 12,
   "id": "b7904f6f",
   "metadata": {},
   "outputs": [
    {
     "data": {
      "text/plain": [
       "' name'"
      ]
     },
     "execution_count": 12,
     "metadata": {},
     "output_type": "execute_result"
    }
   ],
   "source": [
    "s1[2:7]"
   ]
  },
  {
   "cell_type": "code",
   "execution_count": 16,
   "id": "76bd2d07",
   "metadata": {},
   "outputs": [
    {
     "data": {
      "text/plain": [
       "' name is Gita'"
      ]
     },
     "execution_count": 16,
     "metadata": {},
     "output_type": "execute_result"
    }
   ],
   "source": [
    "s1[2:15:1]"
   ]
  },
  {
   "cell_type": "code",
   "execution_count": 17,
   "id": "494b3e79",
   "metadata": {},
   "outputs": [
    {
     "data": {
      "text/plain": [
       "' aei ia'"
      ]
     },
     "execution_count": 17,
     "metadata": {},
     "output_type": "execute_result"
    }
   ],
   "source": [
    "s1[2:15:2]"
   ]
  },
  {
   "cell_type": "code",
   "execution_count": 18,
   "id": "236b8717",
   "metadata": {},
   "outputs": [
    {
     "data": {
      "text/plain": [
       "\"m aei iajl'\""
      ]
     },
     "execution_count": 18,
     "metadata": {},
     "output_type": "execute_result"
    }
   ],
   "source": [
    "s1[0:len(s1):2]"
   ]
  },
  {
   "cell_type": "code",
   "execution_count": 19,
   "id": "6733b7ce",
   "metadata": {},
   "outputs": [
    {
     "data": {
      "text/plain": [
       "''"
      ]
     },
     "execution_count": 19,
     "metadata": {},
     "output_type": "execute_result"
    }
   ],
   "source": [
    "s1[0:len(s1):-1]"
   ]
  },
  {
   "cell_type": "code",
   "execution_count": 20,
   "id": "d7d0ec69",
   "metadata": {},
   "outputs": [
    {
     "data": {
      "text/plain": [
       "\"j'ilajnatiG si eman y\""
      ]
     },
     "execution_count": 20,
     "metadata": {},
     "output_type": "execute_result"
    }
   ],
   "source": [
    "s1[len(s1):0:-1]"
   ]
  },
  {
   "cell_type": "code",
   "execution_count": 21,
   "id": "72ef0b51",
   "metadata": {},
   "outputs": [
    {
     "data": {
      "text/plain": [
       "'jiantGs mny'"
      ]
     },
     "execution_count": 21,
     "metadata": {},
     "output_type": "execute_result"
    }
   ],
   "source": [
    "s1[len(s1):0:-2]"
   ]
  },
  {
   "cell_type": "code",
   "execution_count": 22,
   "id": "7630a141",
   "metadata": {},
   "outputs": [
    {
     "data": {
      "text/plain": [
       "'my name is Gitanj'"
      ]
     },
     "execution_count": 22,
     "metadata": {},
     "output_type": "execute_result"
    }
   ],
   "source": [
    "s1[:-5]"
   ]
  },
  {
   "cell_type": "code",
   "execution_count": 29,
   "id": "83cab32a",
   "metadata": {},
   "outputs": [
    {
     "data": {
      "text/plain": [
       "'my name is Gitanj'"
      ]
     },
     "execution_count": 29,
     "metadata": {},
     "output_type": "execute_result"
    }
   ],
   "source": [
    "s1[:-5:1]"
   ]
  },
  {
   "cell_type": "code",
   "execution_count": 26,
   "id": "27b7cd0f",
   "metadata": {},
   "outputs": [
    {
     "data": {
      "text/plain": [
       "\"ali'j\""
      ]
     },
     "execution_count": 26,
     "metadata": {},
     "output_type": "execute_result"
    }
   ],
   "source": [
    "s1[-5:]"
   ]
  },
  {
   "cell_type": "code",
   "execution_count": 27,
   "id": "07af90a0",
   "metadata": {},
   "outputs": [
    {
     "data": {
      "text/plain": [
       "\"my name is Gitanjali'j\""
      ]
     },
     "execution_count": 27,
     "metadata": {},
     "output_type": "execute_result"
    }
   ],
   "source": [
    "s1[::1]"
   ]
  },
  {
   "cell_type": "code",
   "execution_count": 28,
   "id": "df5c74f7",
   "metadata": {},
   "outputs": [
    {
     "data": {
      "text/plain": [
       "\"maiij'\""
      ]
     },
     "execution_count": 28,
     "metadata": {},
     "output_type": "execute_result"
    }
   ],
   "source": [
    "s1[::4]"
   ]
  },
  {
   "cell_type": "code",
   "execution_count": 30,
   "id": "e2934353",
   "metadata": {},
   "outputs": [
    {
     "data": {
      "text/plain": [
       "\"my name is Gitanjali'j\""
      ]
     },
     "execution_count": 30,
     "metadata": {},
     "output_type": "execute_result"
    }
   ],
   "source": [
    "s1[0:1000:1]"
   ]
  },
  {
   "cell_type": "code",
   "execution_count": 33,
   "id": "26573745",
   "metadata": {},
   "outputs": [
    {
     "data": {
      "text/plain": [
       "''"
      ]
     },
     "execution_count": 33,
     "metadata": {},
     "output_type": "execute_result"
    }
   ],
   "source": [
    "s1[-2:-7:1]"
   ]
  },
  {
   "cell_type": "code",
   "execution_count": 34,
   "id": "d1df416c",
   "metadata": {},
   "outputs": [
    {
     "data": {
      "text/plain": [
       "\"'ilaj\""
      ]
     },
     "execution_count": 34,
     "metadata": {},
     "output_type": "execute_result"
    }
   ],
   "source": [
    "s1[-2:-7:-1]"
   ]
  },
  {
   "cell_type": "code",
   "execution_count": 35,
   "id": "4d24367c",
   "metadata": {},
   "outputs": [
    {
     "data": {
      "text/plain": [
       "'njali'"
      ]
     },
     "execution_count": 35,
     "metadata": {},
     "output_type": "execute_result"
    }
   ],
   "source": [
    "s1[-7:-2:1]"
   ]
  },
  {
   "cell_type": "code",
   "execution_count": 36,
   "id": "975ba281",
   "metadata": {},
   "outputs": [
    {
     "data": {
      "text/plain": [
       "''"
      ]
     },
     "execution_count": 36,
     "metadata": {},
     "output_type": "execute_result"
    }
   ],
   "source": [
    "s1[-7:-2:-1]"
   ]
  },
  {
   "cell_type": "code",
   "execution_count": 37,
   "id": "9857536e",
   "metadata": {},
   "outputs": [
    {
     "data": {
      "text/plain": [
       "''"
      ]
     },
     "execution_count": 37,
     "metadata": {},
     "output_type": "execute_result"
    }
   ],
   "source": [
    "s1[-2:-7]"
   ]
  },
  {
   "cell_type": "code",
   "execution_count": 38,
   "id": "38067801",
   "metadata": {},
   "outputs": [
    {
     "data": {
      "text/plain": [
       "\"my name is Gitanjali'j\""
      ]
     },
     "execution_count": 38,
     "metadata": {},
     "output_type": "execute_result"
    }
   ],
   "source": [
    "s1[0:1000]"
   ]
  },
  {
   "cell_type": "code",
   "execution_count": 39,
   "id": "ca0675f6",
   "metadata": {},
   "outputs": [
    {
     "data": {
      "text/plain": [
       "\"my name is Gitanjali'j\""
      ]
     },
     "execution_count": 39,
     "metadata": {},
     "output_type": "execute_result"
    }
   ],
   "source": [
    "s1[:1000]"
   ]
  },
  {
   "cell_type": "code",
   "execution_count": 41,
   "id": "8e291eb7",
   "metadata": {},
   "outputs": [
    {
     "ename": "TypeError",
     "evalue": "can only concatenate str (not \"int\") to str",
     "output_type": "error",
     "traceback": [
      "\u001b[1;31m---------------------------------------------------------------------------\u001b[0m",
      "\u001b[1;31mTypeError\u001b[0m                                 Traceback (most recent call last)",
      "Input \u001b[1;32mIn [41]\u001b[0m, in \u001b[0;36m<cell line: 1>\u001b[1;34m()\u001b[0m\n\u001b[1;32m----> 1\u001b[0m \u001b[43ms1\u001b[49m\u001b[43m \u001b[49m\u001b[38;5;241;43m+\u001b[39;49m\u001b[43m \u001b[49m\u001b[38;5;241;43m1\u001b[39;49m\n",
      "\u001b[1;31mTypeError\u001b[0m: can only concatenate str (not \"int\") to str"
     ]
    }
   ],
   "source": [
    "s1 + 1"
   ]
  },
  {
   "cell_type": "code",
   "execution_count": 42,
   "id": "9f3afb60",
   "metadata": {},
   "outputs": [
    {
     "data": {
      "text/plain": [
       "\"my name is Gitanjali'j1\""
      ]
     },
     "execution_count": 42,
     "metadata": {},
     "output_type": "execute_result"
    }
   ],
   "source": [
    "s1 + '1'"
   ]
  },
  {
   "cell_type": "code",
   "execution_count": 43,
   "id": "4e4d0eaa",
   "metadata": {},
   "outputs": [
    {
     "data": {
      "text/plain": [
       "\"my name is Gitanjali'j1\""
      ]
     },
     "execution_count": 43,
     "metadata": {},
     "output_type": "execute_result"
    }
   ],
   "source": [
    "s1 + \"1\""
   ]
  },
  {
   "cell_type": "code",
   "execution_count": 44,
   "id": "36b79577",
   "metadata": {},
   "outputs": [
    {
     "data": {
      "text/plain": [
       "\"my name is Gitanjali'j1\""
      ]
     },
     "execution_count": 44,
     "metadata": {},
     "output_type": "execute_result"
    }
   ],
   "source": [
    "s1 + str(1)"
   ]
  },
  {
   "cell_type": "code",
   "execution_count": 45,
   "id": "da3b03ec",
   "metadata": {},
   "outputs": [
    {
     "data": {
      "text/plain": [
       "\"my name is Gitanjali'jmy name is Gitanjali'j\""
      ]
     },
     "execution_count": 45,
     "metadata": {},
     "output_type": "execute_result"
    }
   ],
   "source": [
    "s1*2"
   ]
  },
  {
   "cell_type": "code",
   "execution_count": 48,
   "id": "9d714c5f",
   "metadata": {},
   "outputs": [
    {
     "data": {
      "text/plain": [
       "0"
      ]
     },
     "execution_count": 48,
     "metadata": {},
     "output_type": "execute_result"
    }
   ],
   "source": [
    "s1.count('g')"
   ]
  },
  {
   "cell_type": "code",
   "execution_count": 49,
   "id": "1176c19a",
   "metadata": {},
   "outputs": [
    {
     "data": {
      "text/plain": [
       "1"
      ]
     },
     "execution_count": 49,
     "metadata": {},
     "output_type": "execute_result"
    }
   ],
   "source": [
    "s1.count('G')"
   ]
  },
  {
   "cell_type": "code",
   "execution_count": 50,
   "id": "e9053951",
   "metadata": {},
   "outputs": [
    {
     "data": {
      "text/plain": [
       "3"
      ]
     },
     "execution_count": 50,
     "metadata": {},
     "output_type": "execute_result"
    }
   ],
   "source": [
    "s1.count('i')"
   ]
  },
  {
   "cell_type": "code",
   "execution_count": 51,
   "id": "cce699aa",
   "metadata": {},
   "outputs": [
    {
     "data": {
      "text/plain": [
       "['Git', 'nj', 'li']"
      ]
     },
     "execution_count": 51,
     "metadata": {},
     "output_type": "execute_result"
    }
   ],
   "source": [
    "name.split('a')"
   ]
  },
  {
   "cell_type": "code",
   "execution_count": 52,
   "id": "d2f17999",
   "metadata": {},
   "outputs": [
    {
     "data": {
      "text/plain": [
       "list"
      ]
     },
     "execution_count": 52,
     "metadata": {},
     "output_type": "execute_result"
    }
   ],
   "source": [
    "type(name.split('a'))"
   ]
  },
  {
   "cell_type": "code",
   "execution_count": 53,
   "id": "f8533ec5",
   "metadata": {},
   "outputs": [
    {
     "data": {
      "text/plain": [
       "['my', 'name', 'is', \"Gitanjali'j\"]"
      ]
     },
     "execution_count": 53,
     "metadata": {},
     "output_type": "execute_result"
    }
   ],
   "source": [
    "s1.split(' ')"
   ]
  },
  {
   "cell_type": "code",
   "execution_count": 56,
   "id": "590eaf51",
   "metadata": {},
   "outputs": [],
   "source": [
    "sw = \"\"\"• In July 2018, he was accused of deceit to gain popularity. His students had leveled charges of deceit on him. Some of the students alleged that Anand Kumar projected an inflated success rate of his coaching centre by making a misleading claim that 26 out of 30 students had cleared the IIT JEE Exam in 2018. The students said that only 3 from the Super-30 batch could qualify for IIT JEE. The whistleblower students said that when students from different corners of India approached Anand Kumar to get themselves enrolled at the Super-30, he would divert them to another coaching institute named Ramanujam Mathematics Classes. The students were directed to attend the Institute for one year by paying a handsome fee before getting into the Super-30 after which their fee would be returned, however, the fee never returned to them; as claimed by the father of one of the students. In this vicious cycle, Anand Kumar gets fame; even after the successful students belong to some other institutes. However, Anand Kumar refuted all these claims by saying that it was an effort of his rivals to malign the repute of his Super-30.\n",
    "• The Gauhati High Court directed him to appear before the court on 28 November 2019, besides paying Rs. 50,000 to the “guardians and student” who had leveled charges of deceit on him. [1]\"\"\""
   ]
  },
  {
   "cell_type": "code",
   "execution_count": 57,
   "id": "2a900ac9",
   "metadata": {},
   "outputs": [
    {
     "data": {
      "text/plain": [
       "'• In July 2018, he was accused of deceit to gain popularity. His students had leveled charges of deceit on him. Some of the students alleged that Anand Kumar projected an inflated success rate of his coaching centre by making a misleading claim that 26 out of 30 students had cleared the IIT JEE Exam in 2018. The students said that only 3 from the Super-30 batch could qualify for IIT JEE. The whistleblower students said that when students from different corners of India approached Anand Kumar to get themselves enrolled at the Super-30, he would divert them to another coaching institute named Ramanujam Mathematics Classes. The students were directed to attend the Institute for one year by paying a handsome fee before getting into the Super-30 after which their fee would be returned, however, the fee never returned to them; as claimed by the father of one of the students. In this vicious cycle, Anand Kumar gets fame; even after the successful students belong to some other institutes. However, Anand Kumar refuted all these claims by saying that it was an effort of his rivals to malign the repute of his Super-30.\\n• The Gauhati High Court directed him to appear before the court on 28 November 2019, besides paying Rs. 50,000 to the “guardians and student” who had leveled charges of deceit on him. [1]'"
      ]
     },
     "execution_count": 57,
     "metadata": {},
     "output_type": "execute_result"
    }
   ],
   "source": [
    "sw"
   ]
  },
  {
   "cell_type": "code",
   "execution_count": 58,
   "id": "d6b070f0",
   "metadata": {},
   "outputs": [
    {
     "data": {
      "text/plain": [
       "'• IN JULY 2018, HE WAS ACCUSED OF DECEIT TO GAIN POPULARITY. HIS STUDENTS HAD LEVELED CHARGES OF DECEIT ON HIM. SOME OF THE STUDENTS ALLEGED THAT ANAND KUMAR PROJECTED AN INFLATED SUCCESS RATE OF HIS COACHING CENTRE BY MAKING A MISLEADING CLAIM THAT 26 OUT OF 30 STUDENTS HAD CLEARED THE IIT JEE EXAM IN 2018. THE STUDENTS SAID THAT ONLY 3 FROM THE SUPER-30 BATCH COULD QUALIFY FOR IIT JEE. THE WHISTLEBLOWER STUDENTS SAID THAT WHEN STUDENTS FROM DIFFERENT CORNERS OF INDIA APPROACHED ANAND KUMAR TO GET THEMSELVES ENROLLED AT THE SUPER-30, HE WOULD DIVERT THEM TO ANOTHER COACHING INSTITUTE NAMED RAMANUJAM MATHEMATICS CLASSES. THE STUDENTS WERE DIRECTED TO ATTEND THE INSTITUTE FOR ONE YEAR BY PAYING A HANDSOME FEE BEFORE GETTING INTO THE SUPER-30 AFTER WHICH THEIR FEE WOULD BE RETURNED, HOWEVER, THE FEE NEVER RETURNED TO THEM; AS CLAIMED BY THE FATHER OF ONE OF THE STUDENTS. IN THIS VICIOUS CYCLE, ANAND KUMAR GETS FAME; EVEN AFTER THE SUCCESSFUL STUDENTS BELONG TO SOME OTHER INSTITUTES. HOWEVER, ANAND KUMAR REFUTED ALL THESE CLAIMS BY SAYING THAT IT WAS AN EFFORT OF HIS RIVALS TO MALIGN THE REPUTE OF HIS SUPER-30.\\n• THE GAUHATI HIGH COURT DIRECTED HIM TO APPEAR BEFORE THE COURT ON 28 NOVEMBER 2019, BESIDES PAYING RS. 50,000 TO THE “GUARDIANS AND STUDENT” WHO HAD LEVELED CHARGES OF DECEIT ON HIM. [1]'"
      ]
     },
     "execution_count": 58,
     "metadata": {},
     "output_type": "execute_result"
    }
   ],
   "source": [
    "sw.upper()"
   ]
  },
  {
   "cell_type": "code",
   "execution_count": 59,
   "id": "3efaf288",
   "metadata": {},
   "outputs": [
    {
     "data": {
      "text/plain": [
       "'• In July 2018, he was accused of deceit to gain popularity. His students had leveled charges of deceit on him. Some of the students alleged that Anand Kumar projected an inflated success rate of his coaching centre by making a misleading claim that 26 out of 30 students had cleared the IIT JEE Exam in 2018. The students said that only 3 from the Super-30 batch could qualify for IIT JEE. The whistleblower students said that when students from different corners of India approached Anand Kumar to get themselves enrolled at the Super-30, he would divert them to another coaching institute named Ramanujam Mathematics Classes. The students were directed to attend the Institute for one year by paying a handsome fee before getting into the Super-30 after which their fee would be returned, however, the fee never returned to them; as claimed by the father of one of the students. In this vicious cycle, Anand Kumar gets fame; even after the successful students belong to some other institutes. However, Anand Kumar refuted all these claims by saying that it was an effort of his rivals to malign the repute of his Super-30.\\n• The Gauhati High Court directed him to appear before the court on 28 November 2019, besides paying Rs. 50,000 to the “guardians and student” who had leveled charges of deceit on him. [1]'"
      ]
     },
     "execution_count": 59,
     "metadata": {},
     "output_type": "execute_result"
    }
   ],
   "source": [
    "sw"
   ]
  },
  {
   "cell_type": "code",
   "execution_count": 60,
   "id": "6d45af68",
   "metadata": {},
   "outputs": [],
   "source": [
    "sw = sw.upper()"
   ]
  },
  {
   "cell_type": "code",
   "execution_count": 61,
   "id": "e309da4d",
   "metadata": {},
   "outputs": [
    {
     "data": {
      "text/plain": [
       "'• IN JULY 2018, HE WAS ACCUSED OF DECEIT TO GAIN POPULARITY. HIS STUDENTS HAD LEVELED CHARGES OF DECEIT ON HIM. SOME OF THE STUDENTS ALLEGED THAT ANAND KUMAR PROJECTED AN INFLATED SUCCESS RATE OF HIS COACHING CENTRE BY MAKING A MISLEADING CLAIM THAT 26 OUT OF 30 STUDENTS HAD CLEARED THE IIT JEE EXAM IN 2018. THE STUDENTS SAID THAT ONLY 3 FROM THE SUPER-30 BATCH COULD QUALIFY FOR IIT JEE. THE WHISTLEBLOWER STUDENTS SAID THAT WHEN STUDENTS FROM DIFFERENT CORNERS OF INDIA APPROACHED ANAND KUMAR TO GET THEMSELVES ENROLLED AT THE SUPER-30, HE WOULD DIVERT THEM TO ANOTHER COACHING INSTITUTE NAMED RAMANUJAM MATHEMATICS CLASSES. THE STUDENTS WERE DIRECTED TO ATTEND THE INSTITUTE FOR ONE YEAR BY PAYING A HANDSOME FEE BEFORE GETTING INTO THE SUPER-30 AFTER WHICH THEIR FEE WOULD BE RETURNED, HOWEVER, THE FEE NEVER RETURNED TO THEM; AS CLAIMED BY THE FATHER OF ONE OF THE STUDENTS. IN THIS VICIOUS CYCLE, ANAND KUMAR GETS FAME; EVEN AFTER THE SUCCESSFUL STUDENTS BELONG TO SOME OTHER INSTITUTES. HOWEVER, ANAND KUMAR REFUTED ALL THESE CLAIMS BY SAYING THAT IT WAS AN EFFORT OF HIS RIVALS TO MALIGN THE REPUTE OF HIS SUPER-30.\\n• THE GAUHATI HIGH COURT DIRECTED HIM TO APPEAR BEFORE THE COURT ON 28 NOVEMBER 2019, BESIDES PAYING RS. 50,000 TO THE “GUARDIANS AND STUDENT” WHO HAD LEVELED CHARGES OF DECEIT ON HIM. [1]'"
      ]
     },
     "execution_count": 61,
     "metadata": {},
     "output_type": "execute_result"
    }
   ],
   "source": [
    "sw"
   ]
  },
  {
   "cell_type": "code",
   "execution_count": 62,
   "id": "7bb2d403",
   "metadata": {},
   "outputs": [
    {
     "data": {
      "text/plain": [
       "'• in july 2018, he was accused of deceit to gain popularity. his students had leveled charges of deceit on him. some of the students alleged that anand kumar projected an inflated success rate of his coaching centre by making a misleading claim that 26 out of 30 students had cleared the iit jee exam in 2018. the students said that only 3 from the super-30 batch could qualify for iit jee. the whistleblower students said that when students from different corners of india approached anand kumar to get themselves enrolled at the super-30, he would divert them to another coaching institute named ramanujam mathematics classes. the students were directed to attend the institute for one year by paying a handsome fee before getting into the super-30 after which their fee would be returned, however, the fee never returned to them; as claimed by the father of one of the students. in this vicious cycle, anand kumar gets fame; even after the successful students belong to some other institutes. however, anand kumar refuted all these claims by saying that it was an effort of his rivals to malign the repute of his super-30.\\n• the gauhati high court directed him to appear before the court on 28 november 2019, besides paying rs. 50,000 to the “guardians and student” who had leveled charges of deceit on him. [1]'"
      ]
     },
     "execution_count": 62,
     "metadata": {},
     "output_type": "execute_result"
    }
   ],
   "source": [
    "sw.lower()"
   ]
  },
  {
   "cell_type": "code",
   "execution_count": 149,
   "id": "51bf0e19",
   "metadata": {},
   "outputs": [
    {
     "data": {
      "text/plain": [
       "['• IN JULY 2018, HE WAS ACCUSED OF DECEIT TO GAIN POPULARITY. HIS STUDENTS HAD LEVELED CHARGES OF DECEIT ON HIM. SOME OF THE STUDENTS ALLEGED THAT ANAND KUMAR PROJECTED AN INFLATED SUCCESS RATE OF HIS COACHING CENTRE BY MAKING A MISLEADING CLAIM THAT 26 OUT OF 30 STUDENTS HAD CLEARED THE IIT JEE EXAM IN 2018. THE STUDENTS SAID THAT ONLY 3 FROM THE SUPER-30 BATCH COULD QUALIFY FOR IIT JEE. THE WHISTLEBLOWER STUDENTS SAID THAT WHEN STUDENTS FROM DIFFERENT CORNERS OF INDIA APPROACHED ANAND KUMAR TO GET THEMSELVES ENROLLED AT THE SUPER-30, HE WOULD DIVERT THEM TO ANOTHER COACHING INSTITUTE NAMED RAMANUJAM MATHEMATICS CLASSES. THE STUDENTS WERE DIRECTED TO ATTEND THE INSTITUTE FOR ONE YEAR BY PAYING A HANDSOME FEE BEFORE GETTING INTO THE SUPER-30 AFTER WHICH THEIR FEE WOULD BE RETURNED, HOWEVER, THE FEE NEVER RETURNED TO THEM; AS CLAIMED BY THE FATHER OF ONE OF THE STUDENTS. IN THIS VICIOUS CYCLE, ANAND KUMAR GETS FAME; EVEN AFTER THE SUCCESSFUL STUDENTS BELONG TO SOME OTHER INSTITUTES. HOWEVER, ANAND KUMAR REFUTED ALL THESE CLAIMS BY SAYING THAT IT WAS AN EFFORT OF HIS RIVALS TO MALIGN THE REPUTE OF HIS SUPER-30.',\n",
       " '• THE GAUHATI HIGH COURT DIRECTED HIM TO APPEAR BEFORE THE COURT ON 28 NOVEMBER 2019, BESIDES PAYING RS. 50,000 TO THE “GUARDIANS AND STUDENT” WHO HAD LEVELED CHARGES OF DECEIT ON HIM. [1]']"
      ]
     },
     "execution_count": 149,
     "metadata": {},
     "output_type": "execute_result"
    }
   ],
   "source": [
    "sw.splitlines()"
   ]
  },
  {
   "cell_type": "code",
   "execution_count": 148,
   "id": "b24e7751",
   "metadata": {},
   "outputs": [
    {
     "data": {
      "text/plain": [
       "2"
      ]
     },
     "execution_count": 148,
     "metadata": {},
     "output_type": "execute_result"
    }
   ],
   "source": [
    "len(sw.splitlines())"
   ]
  },
  {
   "cell_type": "code",
   "execution_count": 70,
   "id": "e1a6e538",
   "metadata": {},
   "outputs": [],
   "source": [
    "FN =  'gitanjali mALI'"
   ]
  },
  {
   "cell_type": "code",
   "execution_count": 71,
   "id": "d0077483",
   "metadata": {},
   "outputs": [
    {
     "data": {
      "text/plain": [
       "'Gitanjali Mali'"
      ]
     },
     "execution_count": 71,
     "metadata": {},
     "output_type": "execute_result"
    }
   ],
   "source": [
    "FN.title()"
   ]
  },
  {
   "cell_type": "code",
   "execution_count": 72,
   "id": "92b3a9bd",
   "metadata": {},
   "outputs": [
    {
     "data": {
      "text/plain": [
       "'Gitanjali mali'"
      ]
     },
     "execution_count": 72,
     "metadata": {},
     "output_type": "execute_result"
    }
   ],
   "source": [
    "FN.capitalize()"
   ]
  },
  {
   "cell_type": "code",
   "execution_count": 73,
   "id": "7aaabe5c",
   "metadata": {},
   "outputs": [
    {
     "data": {
      "text/plain": [
       "'GITANJALI Mali'"
      ]
     },
     "execution_count": 73,
     "metadata": {},
     "output_type": "execute_result"
    }
   ],
   "source": [
    "FN.swapcase()"
   ]
  },
  {
   "cell_type": "code",
   "execution_count": 74,
   "id": "b6409696",
   "metadata": {},
   "outputs": [
    {
     "data": {
      "text/plain": [
       "<reversed at 0x144c50adcd0>"
      ]
     },
     "execution_count": 74,
     "metadata": {},
     "output_type": "execute_result"
    }
   ],
   "source": [
    "reversed(FN)"
   ]
  },
  {
   "cell_type": "code",
   "execution_count": 75,
   "id": "9a12381f",
   "metadata": {},
   "outputs": [
    {
     "data": {
      "text/plain": [
       "'ILAm ilajnatig'"
      ]
     },
     "execution_count": 75,
     "metadata": {},
     "output_type": "execute_result"
    }
   ],
   "source": [
    "''.join(reversed(FN))"
   ]
  },
  {
   "cell_type": "code",
   "execution_count": 76,
   "id": "4d3b39cd",
   "metadata": {},
   "outputs": [
    {
     "data": {
      "text/plain": [
       "'ILAm ilajnatig'"
      ]
     },
     "execution_count": 76,
     "metadata": {},
     "output_type": "execute_result"
    }
   ],
   "source": [
    "FN[::-1]"
   ]
  },
  {
   "cell_type": "code",
   "execution_count": 77,
   "id": "35861219",
   "metadata": {},
   "outputs": [],
   "source": [
    "new = '      Gi ta     '"
   ]
  },
  {
   "cell_type": "code",
   "execution_count": 78,
   "id": "92a38d00",
   "metadata": {},
   "outputs": [
    {
     "data": {
      "text/plain": [
       "'Gi ta'"
      ]
     },
     "execution_count": 78,
     "metadata": {},
     "output_type": "execute_result"
    }
   ],
   "source": [
    "new.strip()"
   ]
  },
  {
   "cell_type": "code",
   "execution_count": 79,
   "id": "47059587",
   "metadata": {},
   "outputs": [
    {
     "data": {
      "text/plain": [
       "'Gi ta     '"
      ]
     },
     "execution_count": 79,
     "metadata": {},
     "output_type": "execute_result"
    }
   ],
   "source": [
    "new.lstrip()"
   ]
  },
  {
   "cell_type": "code",
   "execution_count": 81,
   "id": "388d7509",
   "metadata": {},
   "outputs": [
    {
     "data": {
      "text/plain": [
       "'      Gi ta'"
      ]
     },
     "execution_count": 81,
     "metadata": {},
     "output_type": "execute_result"
    }
   ],
   "source": [
    "new.rstrip()"
   ]
  },
  {
   "cell_type": "code",
   "execution_count": 82,
   "id": "eafa2df3",
   "metadata": {},
   "outputs": [
    {
     "data": {
      "text/plain": [
       "'      Gi ta     '"
      ]
     },
     "execution_count": 82,
     "metadata": {},
     "output_type": "execute_result"
    }
   ],
   "source": [
    "new"
   ]
  },
  {
   "cell_type": "code",
   "execution_count": 83,
   "id": "15021387",
   "metadata": {},
   "outputs": [
    {
     "data": {
      "text/plain": [
       "'Sushilkumar'"
      ]
     },
     "execution_count": 83,
     "metadata": {},
     "output_type": "execute_result"
    }
   ],
   "source": [
    "\"\".join(\"Sushilkumar\")"
   ]
  },
  {
   "cell_type": "code",
   "execution_count": 84,
   "id": "d75a00e3",
   "metadata": {},
   "outputs": [
    {
     "data": {
      "text/plain": [
       "'S u s h i l k u m a r'"
      ]
     },
     "execution_count": 84,
     "metadata": {},
     "output_type": "execute_result"
    }
   ],
   "source": [
    "\" \".join(\"Sushilkumar\")"
   ]
  },
  {
   "cell_type": "code",
   "execution_count": 85,
   "id": "5ecd9d01",
   "metadata": {},
   "outputs": [
    {
     "data": {
      "text/plain": [
       "'SGitauGitasGitahGitaiGitalGitakGitauGitamGitaaGitar'"
      ]
     },
     "execution_count": 85,
     "metadata": {},
     "output_type": "execute_result"
    }
   ],
   "source": [
    "\"Gita\".join(\"Sushilkumar\")"
   ]
  },
  {
   "cell_type": "code",
   "execution_count": 86,
   "id": "72736d2a",
   "metadata": {},
   "outputs": [],
   "source": [
    "Hus =  \"Sushilkumar\""
   ]
  },
  {
   "cell_type": "code",
   "execution_count": 90,
   "id": "77f05ecc",
   "metadata": {},
   "outputs": [
    {
     "data": {
      "text/plain": [
       "'********************************************Sushilkumar*********************************************'"
      ]
     },
     "execution_count": 90,
     "metadata": {},
     "output_type": "execute_result"
    }
   ],
   "source": [
    "Hus.center(100, '*')"
   ]
  },
  {
   "cell_type": "code",
   "execution_count": 94,
   "id": "a5125160",
   "metadata": {},
   "outputs": [
    {
     "data": {
      "text/plain": [
       "False"
      ]
     },
     "execution_count": 94,
     "metadata": {},
     "output_type": "execute_result"
    }
   ],
   "source": [
    "Hus.isupper() #entire string is not available in upper case"
   ]
  },
  {
   "cell_type": "code",
   "execution_count": 93,
   "id": "398ed840",
   "metadata": {},
   "outputs": [
    {
     "data": {
      "text/plain": [
       "False"
      ]
     },
     "execution_count": 93,
     "metadata": {},
     "output_type": "execute_result"
    }
   ],
   "source": [
    "Hus.islower() #entire string is not available in lower case"
   ]
  },
  {
   "cell_type": "code",
   "execution_count": 95,
   "id": "796c446f",
   "metadata": {},
   "outputs": [
    {
     "data": {
      "text/plain": [
       "False"
      ]
     },
     "execution_count": 95,
     "metadata": {},
     "output_type": "execute_result"
    }
   ],
   "source": [
    "new.isspace()"
   ]
  },
  {
   "cell_type": "code",
   "execution_count": 96,
   "id": "3df4dc83",
   "metadata": {},
   "outputs": [
    {
     "data": {
      "text/plain": [
       "True"
      ]
     },
     "execution_count": 96,
     "metadata": {},
     "output_type": "execute_result"
    }
   ],
   "source": [
    "\" \".isspace()"
   ]
  },
  {
   "cell_type": "code",
   "execution_count": 97,
   "id": "1b65d484",
   "metadata": {},
   "outputs": [
    {
     "data": {
      "text/plain": [
       "False"
      ]
     },
     "execution_count": 97,
     "metadata": {},
     "output_type": "execute_result"
    }
   ],
   "source": [
    "Hus.isdigit()"
   ]
  },
  {
   "cell_type": "code",
   "execution_count": 98,
   "id": "979b3134",
   "metadata": {},
   "outputs": [
    {
     "data": {
      "text/plain": [
       "True"
      ]
     },
     "execution_count": 98,
     "metadata": {},
     "output_type": "execute_result"
    }
   ],
   "source": [
    "\"43378\".isdigit()"
   ]
  },
  {
   "cell_type": "code",
   "execution_count": 111,
   "id": "ac4c2bb6",
   "metadata": {},
   "outputs": [
    {
     "data": {
      "text/plain": [
       "True"
      ]
     },
     "execution_count": 111,
     "metadata": {},
     "output_type": "execute_result"
    }
   ],
   "source": [
    "\"43378\".isnumeric()"
   ]
  },
  {
   "cell_type": "code",
   "execution_count": 99,
   "id": "6bfcef4f",
   "metadata": {},
   "outputs": [
    {
     "data": {
      "text/plain": [
       "False"
      ]
     },
     "execution_count": 99,
     "metadata": {},
     "output_type": "execute_result"
    }
   ],
   "source": [
    "\"wjgf68994\".isdigit()"
   ]
  },
  {
   "cell_type": "code",
   "execution_count": 109,
   "id": "da134a86",
   "metadata": {},
   "outputs": [
    {
     "data": {
      "text/plain": [
       "False"
      ]
     },
     "execution_count": 109,
     "metadata": {},
     "output_type": "execute_result"
    }
   ],
   "source": [
    "\"wjgf68994\".isnumeric()"
   ]
  },
  {
   "cell_type": "code",
   "execution_count": 113,
   "id": "b5d5cc3e",
   "metadata": {},
   "outputs": [
    {
     "data": {
      "text/plain": [
       "False"
      ]
     },
     "execution_count": 113,
     "metadata": {},
     "output_type": "execute_result"
    }
   ],
   "source": [
    "\"4.56\".isnumeric()"
   ]
  },
  {
   "cell_type": "code",
   "execution_count": 114,
   "id": "41f1a7bd",
   "metadata": {},
   "outputs": [
    {
     "data": {
      "text/plain": [
       "False"
      ]
     },
     "execution_count": 114,
     "metadata": {},
     "output_type": "execute_result"
    }
   ],
   "source": [
    "\"4.56\".isdigit()"
   ]
  },
  {
   "cell_type": "code",
   "execution_count": 119,
   "id": "79cf42fe",
   "metadata": {},
   "outputs": [
    {
     "data": {
      "text/plain": [
       "False"
      ]
     },
     "execution_count": 119,
     "metadata": {},
     "output_type": "execute_result"
    }
   ],
   "source": [
    "\"II\".isdigit()"
   ]
  },
  {
   "cell_type": "code",
   "execution_count": 120,
   "id": "164b1f96",
   "metadata": {},
   "outputs": [
    {
     "data": {
      "text/plain": [
       "False"
      ]
     },
     "execution_count": 120,
     "metadata": {},
     "output_type": "execute_result"
    }
   ],
   "source": [
    "\"II\".isnumeric()"
   ]
  },
  {
   "cell_type": "code",
   "execution_count": 100,
   "id": "4601bce2",
   "metadata": {},
   "outputs": [
    {
     "data": {
      "text/plain": [
       "True"
      ]
     },
     "execution_count": 100,
     "metadata": {},
     "output_type": "execute_result"
    }
   ],
   "source": [
    "Hus.isalnum()"
   ]
  },
  {
   "cell_type": "code",
   "execution_count": 101,
   "id": "6843aee5",
   "metadata": {},
   "outputs": [
    {
     "data": {
      "text/plain": [
       "True"
      ]
     },
     "execution_count": 101,
     "metadata": {},
     "output_type": "execute_result"
    }
   ],
   "source": [
    "Hus.isalpha()"
   ]
  },
  {
   "cell_type": "code",
   "execution_count": 102,
   "id": "69c81f0f",
   "metadata": {},
   "outputs": [
    {
     "data": {
      "text/plain": [
       "False"
      ]
     },
     "execution_count": 102,
     "metadata": {},
     "output_type": "execute_result"
    }
   ],
   "source": [
    "\"68854\".isalpha()"
   ]
  },
  {
   "cell_type": "code",
   "execution_count": 103,
   "id": "d606b267",
   "metadata": {},
   "outputs": [
    {
     "data": {
      "text/plain": [
       "True"
      ]
     },
     "execution_count": 103,
     "metadata": {},
     "output_type": "execute_result"
    }
   ],
   "source": [
    "\"68854\".isalnum()"
   ]
  },
  {
   "cell_type": "code",
   "execution_count": 104,
   "id": "c3d208e0",
   "metadata": {},
   "outputs": [
    {
     "data": {
      "text/plain": [
       "False"
      ]
     },
     "execution_count": 104,
     "metadata": {},
     "output_type": "execute_result"
    }
   ],
   "source": [
    "Hus.startswith('I')"
   ]
  },
  {
   "cell_type": "code",
   "execution_count": 105,
   "id": "6e08c46c",
   "metadata": {},
   "outputs": [
    {
     "data": {
      "text/plain": [
       "True"
      ]
     },
     "execution_count": 105,
     "metadata": {},
     "output_type": "execute_result"
    }
   ],
   "source": [
    "Hus.startswith('S')"
   ]
  },
  {
   "cell_type": "code",
   "execution_count": 106,
   "id": "8e75f9d2",
   "metadata": {},
   "outputs": [
    {
     "data": {
      "text/plain": [
       "False"
      ]
     },
     "execution_count": 106,
     "metadata": {},
     "output_type": "execute_result"
    }
   ],
   "source": [
    "Hus.startswith('s')"
   ]
  },
  {
   "cell_type": "code",
   "execution_count": 107,
   "id": "f9f9ddf2",
   "metadata": {},
   "outputs": [
    {
     "data": {
      "text/plain": [
       "False"
      ]
     },
     "execution_count": 107,
     "metadata": {},
     "output_type": "execute_result"
    }
   ],
   "source": [
    "Hus.endswith('R')"
   ]
  },
  {
   "cell_type": "code",
   "execution_count": 108,
   "id": "548d38e7",
   "metadata": {},
   "outputs": [
    {
     "data": {
      "text/plain": [
       "True"
      ]
     },
     "execution_count": 108,
     "metadata": {},
     "output_type": "execute_result"
    }
   ],
   "source": [
    "Hus.endswith('r')"
   ]
  },
  {
   "cell_type": "code",
   "execution_count": 112,
   "id": "fbf9dd01",
   "metadata": {},
   "outputs": [
    {
     "data": {
      "text/plain": [
       "True"
      ]
     },
     "execution_count": 112,
     "metadata": {},
     "output_type": "execute_result"
    }
   ],
   "source": [
    "\"wjgf68994\".isascii()"
   ]
  },
  {
   "cell_type": "code",
   "execution_count": 115,
   "id": "868caf06",
   "metadata": {},
   "outputs": [
    {
     "data": {
      "text/plain": [
       "'Git\\name\\\\wife'"
      ]
     },
     "execution_count": 115,
     "metadata": {},
     "output_type": "execute_result"
    }
   ],
   "source": [
    "s =  'Git\\name\\wife'\n",
    "s.expandtabs()"
   ]
  },
  {
   "cell_type": "code",
   "execution_count": 116,
   "id": "0a2443ed",
   "metadata": {},
   "outputs": [
    {
     "data": {
      "text/plain": [
       "'Git     name    wife'"
      ]
     },
     "execution_count": 116,
     "metadata": {},
     "output_type": "execute_result"
    }
   ],
   "source": [
    "s =  'Git\\tname\\twife'\n",
    "s.expandtabs()"
   ]
  },
  {
   "cell_type": "code",
   "execution_count": 117,
   "id": "1cb2b8ad",
   "metadata": {},
   "outputs": [
    {
     "data": {
      "text/plain": [
       "'Git\\nname\\nwife'"
      ]
     },
     "execution_count": 117,
     "metadata": {},
     "output_type": "execute_result"
    }
   ],
   "source": [
    "s =  'Git\\nname\\nwife'\n",
    "s.expandtabs()"
   ]
  },
  {
   "cell_type": "code",
   "execution_count": 154,
   "id": "22368f0b",
   "metadata": {},
   "outputs": [
    {
     "data": {
      "text/plain": [
       "True"
      ]
     },
     "execution_count": 154,
     "metadata": {},
     "output_type": "execute_result"
    }
   ],
   "source": [
    "' '.isspace()"
   ]
  },
  {
   "cell_type": "code",
   "execution_count": 150,
   "id": "fe59537e",
   "metadata": {},
   "outputs": [
    {
     "data": {
      "text/plain": [
       "True"
      ]
     },
     "execution_count": 150,
     "metadata": {},
     "output_type": "execute_result"
    }
   ],
   "source": [
    "'\\n'.isspace()"
   ]
  },
  {
   "cell_type": "code",
   "execution_count": 153,
   "id": "1ce0ab1e",
   "metadata": {},
   "outputs": [
    {
     "data": {
      "text/plain": [
       "True"
      ]
     },
     "execution_count": 153,
     "metadata": {},
     "output_type": "execute_result"
    }
   ],
   "source": [
    "'\\13'.isspace()"
   ]
  },
  {
   "cell_type": "code",
   "execution_count": 146,
   "id": "91a149e3",
   "metadata": {},
   "outputs": [
    {
     "data": {
      "text/plain": [
       "True"
      ]
     },
     "execution_count": 146,
     "metadata": {},
     "output_type": "execute_result"
    }
   ],
   "source": [
    "'\\15'.isspace()"
   ]
  },
  {
   "cell_type": "code",
   "execution_count": 129,
   "id": "15d0ea1a",
   "metadata": {},
   "outputs": [
    {
     "data": {
      "text/plain": [
       "b' '"
      ]
     },
     "execution_count": 129,
     "metadata": {},
     "output_type": "execute_result"
    }
   ],
   "source": [
    "' '.encode('ascii')"
   ]
  },
  {
   "cell_type": "code",
   "execution_count": 139,
   "id": "9f5d154e",
   "metadata": {},
   "outputs": [
    {
     "data": {
      "text/plain": [
       "b'\\t'"
      ]
     },
     "execution_count": 139,
     "metadata": {},
     "output_type": "execute_result"
    }
   ],
   "source": [
    "'\\11'.encode('ascii')"
   ]
  },
  {
   "cell_type": "code",
   "execution_count": 140,
   "id": "76e055ba",
   "metadata": {},
   "outputs": [
    {
     "data": {
      "text/plain": [
       "b'\\n'"
      ]
     },
     "execution_count": 140,
     "metadata": {},
     "output_type": "execute_result"
    }
   ],
   "source": [
    "'\\12'.encode('ascii')"
   ]
  },
  {
   "cell_type": "code",
   "execution_count": 141,
   "id": "e2eb4338",
   "metadata": {},
   "outputs": [
    {
     "data": {
      "text/plain": [
       "b'\\x0b'"
      ]
     },
     "execution_count": 141,
     "metadata": {},
     "output_type": "execute_result"
    }
   ],
   "source": [
    "'\\13'.encode('ascii')"
   ]
  },
  {
   "cell_type": "code",
   "execution_count": 142,
   "id": "5106a3eb",
   "metadata": {},
   "outputs": [
    {
     "data": {
      "text/plain": [
       "b'\\x0c'"
      ]
     },
     "execution_count": 142,
     "metadata": {},
     "output_type": "execute_result"
    }
   ],
   "source": [
    "'\\14'.encode('ascii')"
   ]
  },
  {
   "cell_type": "code",
   "execution_count": 143,
   "id": "3bb4fd80",
   "metadata": {},
   "outputs": [
    {
     "data": {
      "text/plain": [
       "b'\\r'"
      ]
     },
     "execution_count": 143,
     "metadata": {},
     "output_type": "execute_result"
    }
   ],
   "source": [
    "'\\15'.encode('ascii')"
   ]
  },
  {
   "cell_type": "code",
   "execution_count": 1,
   "id": "052617d0",
   "metadata": {},
   "outputs": [],
   "source": [
    "s = 'Gitanjali'"
   ]
  },
  {
   "cell_type": "code",
   "execution_count": 2,
   "id": "21fea59a",
   "metadata": {},
   "outputs": [
    {
     "data": {
      "text/plain": [
       "'G'"
      ]
     },
     "execution_count": 2,
     "metadata": {},
     "output_type": "execute_result"
    }
   ],
   "source": [
    "s[0::-1]"
   ]
  },
  {
   "cell_type": "code",
   "execution_count": 3,
   "id": "82036076",
   "metadata": {},
   "outputs": [
    {
     "data": {
      "text/plain": [
       "''"
      ]
     },
     "execution_count": 3,
     "metadata": {},
     "output_type": "execute_result"
    }
   ],
   "source": [
    "s[0:6:-1]"
   ]
  },
  {
   "cell_type": "code",
   "execution_count": null,
   "id": "ec9f507d",
   "metadata": {},
   "outputs": [],
   "source": []
  }
 ],
 "metadata": {
  "kernelspec": {
   "display_name": "Python 3 (ipykernel)",
   "language": "python",
   "name": "python3"
  },
  "language_info": {
   "codemirror_mode": {
    "name": "ipython",
    "version": 3
   },
   "file_extension": ".py",
   "mimetype": "text/x-python",
   "name": "python",
   "nbconvert_exporter": "python",
   "pygments_lexer": "ipython3",
   "version": "3.9.12"
  }
 },
 "nbformat": 4,
 "nbformat_minor": 5
}
