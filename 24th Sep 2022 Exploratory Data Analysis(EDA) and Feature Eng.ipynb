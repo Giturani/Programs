{
 "cells": [
  {
   "cell_type": "markdown",
   "id": "ffc82c6c",
   "metadata": {},
   "source": [
    "Data Science Lifecycle:\n",
    "1. Data Ingestion\n",
    "2.EDA(Analysis)\n",
    "3.Processing(pre)\n",
    "4.Model\n",
    "5.Evaluate and Validate"
   ]
  },
  {
   "cell_type": "markdown",
   "id": "aa296677",
   "metadata": {},
   "source": [
    "### Data Ingestion"
   ]
  },
  {
   "cell_type": "markdown",
   "id": "6a495034",
   "metadata": {},
   "source": [
    "Consume the data"
   ]
  },
  {
   "cell_type": "markdown",
   "id": "ca8f3990",
   "metadata": {},
   "source": [
    "### EDA"
   ]
  },
  {
   "cell_type": "markdown",
   "id": "dc6fc761",
   "metadata": {},
   "source": [
    "Analysis"
   ]
  },
  {
   "cell_type": "markdown",
   "id": "223948c4",
   "metadata": {},
   "source": [
    "### Preprocessing"
   ]
  },
  {
   "cell_type": "markdown",
   "id": "4c0f69f3",
   "metadata": {},
   "source": [
    "Clean our data"
   ]
  },
  {
   "cell_type": "markdown",
   "id": "87c9131b",
   "metadata": {},
   "source": [
    "### Statistics"
   ]
  },
  {
   "cell_type": "raw",
   "id": "67d38da9",
   "metadata": {},
   "source": [
    "1.Collect the data\n",
    "2.organise the data\n",
    "3.interpret the data\n",
    "4.Analysis of the data"
   ]
  },
  {
   "cell_type": "code",
   "execution_count": null,
   "id": "0cf65e86",
   "metadata": {},
   "outputs": [],
   "source": []
  }
 ],
 "metadata": {
  "kernelspec": {
   "display_name": "Python 3 (ipykernel)",
   "language": "python",
   "name": "python3"
  },
  "language_info": {
   "codemirror_mode": {
    "name": "ipython",
    "version": 3
   },
   "file_extension": ".py",
   "mimetype": "text/x-python",
   "name": "python",
   "nbconvert_exporter": "python",
   "pygments_lexer": "ipython3",
   "version": "3.9.12"
  }
 },
 "nbformat": 4,
 "nbformat_minor": 5
}
