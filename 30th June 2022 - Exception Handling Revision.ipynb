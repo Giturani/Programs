{
 "cells": [
  {
   "cell_type": "raw",
   "id": "9d29686f",
   "metadata": {},
   "source": [
    "try except finally and else block"
   ]
  },
  {
   "cell_type": "code",
   "execution_count": 1,
   "id": "9878faef",
   "metadata": {},
   "outputs": [
    {
     "name": "stdout",
     "output_type": "stream",
     "text": [
      "[Errno 2] No such file or directory: 'Hit.txt'\n",
      "this is not my suspicious set of the code\n"
     ]
    }
   ],
   "source": [
    "try:\n",
    "    f = open(\"Hit.txt\", 'r')\n",
    "    f.write(\"this is my suspicious code\")\n",
    "except Exception as e:\n",
    "    print(e)\n",
    "    print(\"this is not my suspicious set of the code\")"
   ]
  },
  {
   "cell_type": "code",
   "execution_count": 2,
   "id": "b177db05",
   "metadata": {},
   "outputs": [
    {
     "name": "stdout",
     "output_type": "stream",
     "text": [
      "[Errno 2] No such file or directory: 'Hit.txt'\n",
      "this is not my suspicious set of the code\n",
      "this block will be executed anytime\n"
     ]
    }
   ],
   "source": [
    "try:\n",
    "    f = open(\"Hit.txt\", 'r')\n",
    "    f.write(\"this is my suspicious code\")\n",
    "except Exception as e:\n",
    "    print(e)\n",
    "    print(\"this is not my suspicious set of the code\")\n",
    "finally:\n",
    "    print(\"this block will be executed anytime\")"
   ]
  },
  {
   "cell_type": "code",
   "execution_count": 3,
   "id": "474b07da",
   "metadata": {},
   "outputs": [],
   "source": [
    "def askint():\n",
    "    try:\n",
    "        val = int(input(\"please enter an integer\"))\n",
    "    except:\n",
    "        print(\"you have not entered an integer\")\n",
    "        try:\n",
    "            val = int(input(\"please enter an integer\"))\n",
    "        except:\n",
    "            print(\"We are able to handle your mistake second time\")\n",
    "    finally:\n",
    "        print(\"this block will be executed anytime\")"
   ]
  },
  {
   "cell_type": "code",
   "execution_count": 6,
   "id": "734ad44a",
   "metadata": {},
   "outputs": [
    {
     "name": "stdout",
     "output_type": "stream",
     "text": [
      "please enter an integerdsgsdhy\n",
      "you have not entered an integer\n",
      "please enter an integer56\n",
      "this block will be executed anytime\n"
     ]
    }
   ],
   "source": [
    "askint()"
   ]
  },
  {
   "cell_type": "code",
   "execution_count": 8,
   "id": "0ba8ebf9",
   "metadata": {},
   "outputs": [],
   "source": [
    "def askint1():\n",
    "    while True:\n",
    "        try:\n",
    "            val = int(input(\"Please try to input integer\"))\n",
    "            break;\n",
    "        except Exception as e:\n",
    "            print(\"Look like you have not entered an integer\")\n",
    "            continue"
   ]
  },
  {
   "cell_type": "code",
   "execution_count": 9,
   "id": "9b39b9c4",
   "metadata": {},
   "outputs": [
    {
     "name": "stdout",
     "output_type": "stream",
     "text": [
      "Please try to input integerdgzghd\n",
      "Look like you have not entered an integer\n",
      "Please try to input integerzdgjnr\n",
      "Look like you have not entered an integer\n",
      "Please try to input integer;''[[\n",
      "Look like you have not entered an integer\n",
      "Please try to input integer45\n"
     ]
    }
   ],
   "source": [
    "askint1()"
   ]
  },
  {
   "cell_type": "code",
   "execution_count": null,
   "id": "456fc99c",
   "metadata": {},
   "outputs": [],
   "source": []
  }
 ],
 "metadata": {
  "kernelspec": {
   "display_name": "Python 3 (ipykernel)",
   "language": "python",
   "name": "python3"
  },
  "language_info": {
   "codemirror_mode": {
    "name": "ipython",
    "version": 3
   },
   "file_extension": ".py",
   "mimetype": "text/x-python",
   "name": "python",
   "nbconvert_exporter": "python",
   "pygments_lexer": "ipython3",
   "version": "3.9.12"
  }
 },
 "nbformat": 4,
 "nbformat_minor": 5
}
