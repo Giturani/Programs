{
 "cells": [
  {
   "cell_type": "code",
   "execution_count": null,
   "id": "054b7b32",
   "metadata": {},
   "outputs": [],
   "source": [
    "# scale the data between 0 to 1 by dividing it by 255\n",
    "x_valid, x_train = x_train_full[:5000]/255, x_train_full[5000:]/255\n",
    "y_valid , y_train = y_train_full[:5000],y_train_full[5000:]\n"
   ]
  }
 ],
 "metadata": {
  "kernelspec": {
   "display_name": "Python 3 (ipykernel)",
   "language": "python",
   "name": "python3"
  },
  "language_info": {
   "codemirror_mode": {
    "name": "ipython",
    "version": 3
   },
   "file_extension": ".py",
   "mimetype": "text/x-python",
   "name": "python",
   "nbconvert_exporter": "python",
   "pygments_lexer": "ipython3",
   "version": "3.9.12"
  }
 },
 "nbformat": 4,
 "nbformat_minor": 5
}
