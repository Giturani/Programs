{
 "cells": [
  {
   "cell_type": "raw",
   "id": "5cb7092b",
   "metadata": {},
   "source": [
    "q1 : Try to print this by using while loop \n",
    "* \n",
    "* * \n",
    "* * * \n",
    "* * * * \n",
    "* * * * * \n",
    "* * * * * * \n",
    "* * * * * * * \n",
    "* * * * * * * * \n",
    "* * * * * * * * * "
   ]
  },
  {
   "cell_type": "code",
   "execution_count": 1,
   "id": "c2eb48ca",
   "metadata": {},
   "outputs": [
    {
     "name": "stdout",
     "output_type": "stream",
     "text": [
      "* \n",
      "* * \n",
      "* * * \n",
      "* * * * \n",
      "* * * * * \n",
      "* * * * * * \n",
      "* * * * * * * \n",
      "* * * * * * * * \n",
      "* * * * * * * * * \n"
     ]
    }
   ],
   "source": [
    "n = 9\n",
    "i=1\n",
    "while(i<=n):\n",
    "    j=1\n",
    "    while(j<=i):\n",
    "        print(\"*\",end=\" \")\n",
    "        j=j+1\n",
    "    i=i+1\n",
    "    print()"
   ]
  },
  {
   "cell_type": "raw",
   "id": "a5072936",
   "metadata": {},
   "source": [
    "q2 : try to print below by using while loop : \n",
    "        \n",
    "A\n",
    "B H \n",
    "C I N\n",
    "D J o S\n",
    "E K p T W\n",
    "F L Q U X z\n",
    "G M R V Y "
   ]
  },
  {
   "cell_type": "code",
   "execution_count": 2,
   "id": "7f986b98",
   "metadata": {},
   "outputs": [
    {
     "name": "stdout",
     "output_type": "stream",
     "text": [
      "A \r\n",
      "B H \r\n",
      "C I N \r\n",
      "D J O S \r\n",
      "E K P T W \r\n",
      "F L Q U X Z \r\n",
      "G M R V Y \r\n"
     ]
    }
   ],
   "source": [
    "n = 7\n",
    "i = 1\n",
    "sum = 64\n",
    "\n",
    "# Outer loop for how many lines we want to print\n",
    "while(i<=n): \n",
    "    k = sum + i\n",
    "    j = 1\n",
    "\n",
    "    # Inner loop for printing natural number\n",
    "    while(j <= i):\n",
    "        if ord('Z') >= k:\n",
    "            print (chr(k),end=\" \")\n",
    "\n",
    "            # Logic to print natural value column-wise\n",
    "            k = k + n - j\n",
    "            j = j + 1\n",
    "        else:\n",
    "            break\n",
    "    print(\"\\r\")\n",
    "    i = i + 1"
   ]
  },
  {
   "cell_type": "code",
   "execution_count": null,
   "id": "4f2b84a7",
   "metadata": {},
   "outputs": [],
   "source": []
  }
 ],
 "metadata": {
  "kernelspec": {
   "display_name": "Python 3 (ipykernel)",
   "language": "python",
   "name": "python3"
  },
  "language_info": {
   "codemirror_mode": {
    "name": "ipython",
    "version": 3
   },
   "file_extension": ".py",
   "mimetype": "text/x-python",
   "name": "python",
   "nbconvert_exporter": "python",
   "pygments_lexer": "ipython3",
   "version": "3.9.12"
  }
 },
 "nbformat": 4,
 "nbformat_minor": 5
}
