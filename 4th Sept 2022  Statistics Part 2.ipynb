{
 "cells": [
  {
   "cell_type": "code",
   "execution_count": 14,
   "id": "744889c4",
   "metadata": {},
   "outputs": [],
   "source": [
    "import seaborn as sns"
   ]
  },
  {
   "cell_type": "code",
   "execution_count": 6,
   "id": "79086bcc",
   "metadata": {},
   "outputs": [],
   "source": [
    "df = sns.load_dataset('tips')"
   ]
  },
  {
   "cell_type": "code",
   "execution_count": 9,
   "id": "71279de5",
   "metadata": {},
   "outputs": [
    {
     "name": "stderr",
     "output_type": "stream",
     "text": [
      "C:\\Users\\91942\\anaconda3\\lib\\site-packages\\seaborn\\_decorators.py:36: FutureWarning: Pass the following variable as a keyword arg: x. From version 0.12, the only valid positional argument will be `data`, and passing other arguments without an explicit keyword will result in an error or misinterpretation.\n",
      "  warnings.warn(\n"
     ]
    },
    {
     "data": {
      "text/plain": [
       "<AxesSubplot:xlabel='total_bill'>"
      ]
     },
     "execution_count": 9,
     "metadata": {},
     "output_type": "execute_result"
    },
    {
     "data": {
      "image/png": "[encoded data removed]",
      "text/plain": [
       "<Figure size 432x288 with 1 Axes>"
      ]
     },
     "metadata": {
      "needs_background": "light"
     },
     "output_type": "display_data"
    }
   ],
   "source": [
    "sns.boxplot(df['total_bill'])"
   ]
  },
  {
   "cell_type": "markdown",
   "id": "ea412f38",
   "metadata": {},
   "source": [
    "sns.violinplot(df['total_bill'])"
   ]
  },
  {
   "cell_type": "code",
   "execution_count": 1,
   "id": "a5e5c97b",
   "metadata": {},
   "outputs": [],
   "source": [
    "import numpy as np"
   ]
  },
  {
   "cell_type": "code",
   "execution_count": 2,
   "id": "d4c50d00",
   "metadata": {},
   "outputs": [],
   "source": [
    "age = [2,3,4,5,6,2,2,4,65,7,8,4,3,3,6,7,4,4,5,5,5,5,6,7,5,47,643,3,65,8,5]"
   ]
  },
  {
   "cell_type": "code",
   "execution_count": 3,
   "id": "5ecd3cd4",
   "metadata": {},
   "outputs": [
    {
     "data": {
      "text/plain": [
       "array([65.])"
      ]
     },
     "execution_count": 3,
     "metadata": {},
     "output_type": "execute_result"
    }
   ],
   "source": [
    "np.percentile(age,[95])"
   ]
  },
  {
   "cell_type": "code",
   "execution_count": 4,
   "id": "d00a9429",
   "metadata": {},
   "outputs": [
    {
     "data": {
      "text/plain": [
       "array([4., 7.])"
      ]
     },
     "execution_count": 4,
     "metadata": {},
     "output_type": "execute_result"
    }
   ],
   "source": [
    "np.percentile(age,[25,75])"
   ]
  },
  {
   "cell_type": "code",
   "execution_count": 5,
   "id": "1029c034",
   "metadata": {},
   "outputs": [],
   "source": [
    "IQR = 7-4"
   ]
  },
  {
   "cell_type": "code",
   "execution_count": 6,
   "id": "684f62e4",
   "metadata": {},
   "outputs": [
    {
     "data": {
      "text/plain": [
       "3"
      ]
     },
     "execution_count": 6,
     "metadata": {},
     "output_type": "execute_result"
    }
   ],
   "source": [
    "IQR"
   ]
  },
  {
   "cell_type": "code",
   "execution_count": 9,
   "id": "302154d3",
   "metadata": {},
   "outputs": [],
   "source": [
    "Lower_Fence = 4 - 1.5 * 3"
   ]
  },
  {
   "cell_type": "code",
   "execution_count": 11,
   "id": "9f6f9b98",
   "metadata": {},
   "outputs": [],
   "source": [
    "Highr_Fence = 7 + 1.5 * 3"
   ]
  },
  {
   "cell_type": "code",
   "execution_count": 10,
   "id": "774639d1",
   "metadata": {},
   "outputs": [
    {
     "data": {
      "text/plain": [
       "-0.5"
      ]
     },
     "execution_count": 10,
     "metadata": {},
     "output_type": "execute_result"
    }
   ],
   "source": [
    "Lower_Fence"
   ]
  },
  {
   "cell_type": "code",
   "execution_count": 12,
   "id": "75157191",
   "metadata": {},
   "outputs": [
    {
     "data": {
      "text/plain": [
       "11.5"
      ]
     },
     "execution_count": 12,
     "metadata": {},
     "output_type": "execute_result"
    }
   ],
   "source": [
    "Highr_Fence"
   ]
  },
  {
   "cell_type": "code",
   "execution_count": 15,
   "id": "96c73d01",
   "metadata": {},
   "outputs": [
    {
     "name": "stderr",
     "output_type": "stream",
     "text": [
      "C:\\Users\\91942\\anaconda3\\lib\\site-packages\\seaborn\\_decorators.py:36: FutureWarning: Pass the following variable as a keyword arg: x. From version 0.12, the only valid positional argument will be `data`, and passing other arguments without an explicit keyword will result in an error or misinterpretation.\n",
      "  warnings.warn(\n"
     ]
    },
    {
     "data": {
      "text/plain": [
       "<AxesSubplot:>"
      ]
     },
     "execution_count": 15,
     "metadata": {},
     "output_type": "execute_result"
    },
    {
     "data": {
      "image/png": "[encoded data removed]",
      "text/plain": [
       "<Figure size 432x288 with 1 Axes>"
      ]
     },
     "metadata": {
      "needs_background": "light"
     },
     "output_type": "display_data"
    }
   ],
   "source": [
    "sns.boxplot(age)"
   ]
  },
  {
   "cell_type": "code",
   "execution_count": 16,
   "id": "30724fcd",
   "metadata": {},
   "outputs": [
    {
     "data": {
      "text/plain": [
       "30.580645161290324"
      ]
     },
     "execution_count": 16,
     "metadata": {},
     "output_type": "execute_result"
    }
   ],
   "source": [
    "np.mean(age)"
   ]
  },
  {
   "cell_type": "code",
   "execution_count": 17,
   "id": "4d612fcb",
   "metadata": {},
   "outputs": [
    {
     "data": {
      "text/plain": [
       "5.0"
      ]
     },
     "execution_count": 17,
     "metadata": {},
     "output_type": "execute_result"
    }
   ],
   "source": [
    "np.median(age)"
   ]
  },
  {
   "cell_type": "code",
   "execution_count": 19,
   "id": "d8e7d069",
   "metadata": {},
   "outputs": [],
   "source": [
    "from statistics import mode"
   ]
  },
  {
   "cell_type": "code",
   "execution_count": 20,
   "id": "dc9e1cfc",
   "metadata": {},
   "outputs": [
    {
     "data": {
      "text/plain": [
       "5"
      ]
     },
     "execution_count": 20,
     "metadata": {},
     "output_type": "execute_result"
    }
   ],
   "source": [
    "mode(age)"
   ]
  },
  {
   "cell_type": "code",
   "execution_count": null,
   "id": "fc99d6e8",
   "metadata": {},
   "outputs": [],
   "source": []
  }
 ],
 "metadata": {
  "kernelspec": {
   "display_name": "Python 3 (ipykernel)",
   "language": "python",
   "name": "python3"
  },
  "language_info": {
   "codemirror_mode": {
    "name": "ipython",
    "version": 3
   },
   "file_extension": ".py",
   "mimetype": "text/x-python",
   "name": "python",
   "nbconvert_exporter": "python",
   "pygments_lexer": "ipython3",
   "version": "3.9.12"
  }
 },
 "nbformat": 4,
 "nbformat_minor": 5
}
